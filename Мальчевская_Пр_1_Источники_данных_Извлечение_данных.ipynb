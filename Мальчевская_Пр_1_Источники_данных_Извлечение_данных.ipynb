{
 "cells": [
  {
   "cell_type": "markdown",
   "metadata": {
    "id": "P3qNryfuKeI8"
   },
   "source": [
    "# Практическая работа 1. Источники данных. Извлечение данных"
   ]
  },
  {
   "cell_type": "markdown",
   "metadata": {
    "id": "_2zMItYSgrbH"
   },
   "source": [
    "ФИО: Мальчевская Полина Андреевна\n",
    "\n",
    "Группа: АДЭУ-201"
   ]
  },
  {
   "cell_type": "markdown",
   "metadata": {
    "id": "DGXa0bzzbWqC"
   },
   "source": [
    "## Задание 1.1"
   ]
  },
  {
   "cell_type": "markdown",
   "metadata": {
    "id": "gYQNmI_PKWOP"
   },
   "source": [
    "Используем данные из открытого источника для `CSV`, `Parquet` и `API`, а также вручную подготовим данные для баз данных и HTML  из открытых данных (доступно по адресу https://data.cityofnewyork.us)."
   ]
  },
  {
   "cell_type": "code",
   "execution_count": 1,
   "metadata": {
    "id": "nT98csOGMCHT"
   },
   "outputs": [],
   "source": [
    "# import modules\n",
    "import certifi\n",
    "import json\n",
    "import pandas as pd\n",
    "import numpy as np\n",
    "import matplotlib.pyplot as plt\n",
    "import sqlite3\n",
    "import urllib3\n",
    "from urllib3 import request\n",
    "from unicodedata import normalize"
   ]
  },
  {
   "cell_type": "markdown",
   "metadata": {
    "id": "gELKRi7_LbcR"
   },
   "source": [
    "Файлы данных могут быть получены откуда угодно: от файлов, хранящихся локально на вашем устройстве, до файловых систем облачного хранилища.\n",
    "\n",
    "Даже при работе в основном с базами данных или внешними `API` использование физических файлов — отличный способ легко использовать данные с метками времени, что может пригодиться при любых временных проблемах с подключением."
   ]
  },
  {
   "cell_type": "code",
   "execution_count": 2,
   "metadata": {
    "id": "VcorFH1UIxRv"
   },
   "outputs": [],
   "source": [
    "# Загрузите данные с портала открытых данных Правительства Москвы —\n",
    "# данные о Wi-Fi в кинотеатрах, введя в браузер следующий URL-адрес: https://data.mos.ru/opendata/60789?isDynamic=false.\n",
    "# Будет загружен CSV-файл *.csv. Сохраните этот файл.\n",
    "# прочитать данные CSV, используя команду Pandas pd.read_csv() в качестве df DataFrame, затем выберите первые пять строк DataFrame с помощью df.head()."
   ]
  },
  {
   "cell_type": "markdown",
   "metadata": {
    "id": "ea8l3d-XMYvH"
   },
   "source": [
    "**Задание 1.1.** Зайти на сайт URL-адрес: https://data.mos.ru/opendata/60789?isDynamic=false\n",
    "\n",
    "**Задание 1.2.** Загрузить данные о `Wi-Fi в кинотеатрах`.\n",
    "\n",
    "**Задание 1.3.** Считайте данные из файла CSV. Использовать метод `pandas read_csv` для простоты и скорости."
   ]
  },
  {
   "cell_type": "code",
   "execution_count": 3,
   "metadata": {
    "colab": {
     "base_uri": "https://localhost:8080/",
     "height": 486
    },
    "id": "BlGgzX6-MORB",
    "outputId": "e183f974-1cae-4d87-e720-81b27ead99d9"
   },
   "outputs": [
    {
     "data": {
      "text/html": [
       "<div>\n",
       "<style scoped>\n",
       "    .dataframe tbody tr th:only-of-type {\n",
       "        vertical-align: middle;\n",
       "    }\n",
       "\n",
       "    .dataframe tbody tr th {\n",
       "        vertical-align: top;\n",
       "    }\n",
       "\n",
       "    .dataframe thead th {\n",
       "        text-align: right;\n",
       "    }\n",
       "</style>\n",
       "<table border=\"1\" class=\"dataframe\">\n",
       "  <thead>\n",
       "    <tr style=\"text-align: right;\">\n",
       "      <th></th>\n",
       "      <th>global_id</th>\n",
       "      <th>ID</th>\n",
       "      <th>CinemaName</th>\n",
       "      <th>AdmArea</th>\n",
       "      <th>District</th>\n",
       "      <th>Address</th>\n",
       "      <th>NumberOfAccessPoints</th>\n",
       "      <th>WiFiName</th>\n",
       "      <th>CoverageArea</th>\n",
       "      <th>FunctionFlag</th>\n",
       "      <th>AccessFlag</th>\n",
       "      <th>Password</th>\n",
       "      <th>Latitude_WGS84</th>\n",
       "      <th>Longitude_WGS84</th>\n",
       "      <th>geoData</th>\n",
       "      <th>geodata_center</th>\n",
       "      <th>Unnamed: 16</th>\n",
       "    </tr>\n",
       "  </thead>\n",
       "  <tbody>\n",
       "    <tr>\n",
       "      <th>0</th>\n",
       "      <td>global_id</td>\n",
       "      <td>Код</td>\n",
       "      <td>Наименование кинотеатра</td>\n",
       "      <td>Административный округ</td>\n",
       "      <td>Район</td>\n",
       "      <td>Адрес</td>\n",
       "      <td>Количество точек доступа</td>\n",
       "      <td>Имя Wi-Fi сети</td>\n",
       "      <td>Зона покрытия, в метрах</td>\n",
       "      <td>Признак функционирования</td>\n",
       "      <td>Условия доступа</td>\n",
       "      <td>Пароль</td>\n",
       "      <td>Широта в WGS-84</td>\n",
       "      <td>Долгота в WGS-84</td>\n",
       "      <td>geoData</td>\n",
       "      <td>geodata_center</td>\n",
       "      <td>NaN</td>\n",
       "    </tr>\n",
       "    <tr>\n",
       "      <th>1</th>\n",
       "      <td>879791944</td>\n",
       "      <td>1</td>\n",
       "      <td>Государственное бюджетное учреждение культуры ...</td>\n",
       "      <td>Северо-Восточный административный округ</td>\n",
       "      <td>Останкинский район</td>\n",
       "      <td>Российская Федерация, город Москва, внутригоро...</td>\n",
       "      <td>7</td>\n",
       "      <td>Moscow_WiFi_Free</td>\n",
       "      <td>50</td>\n",
       "      <td>действует</td>\n",
       "      <td>открытая сеть</td>\n",
       "      <td>NaN</td>\n",
       "      <td>55.818675</td>\n",
       "      <td>37.636778</td>\n",
       "      <td>{coordinates=[37.636778, 55.818675], type=Point}</td>\n",
       "      <td>NaN</td>\n",
       "      <td>NaN</td>\n",
       "    </tr>\n",
       "    <tr>\n",
       "      <th>2</th>\n",
       "      <td>879791951</td>\n",
       "      <td>3</td>\n",
       "      <td>Государственное бюджетное учреждение культуры ...</td>\n",
       "      <td>Юго-Восточный административный округ</td>\n",
       "      <td>район Печатники</td>\n",
       "      <td>город Москва, улица Кухмистерова, дом 4</td>\n",
       "      <td>8</td>\n",
       "      <td>Moscow_WiFi_Free</td>\n",
       "      <td>50</td>\n",
       "      <td>действует</td>\n",
       "      <td>открытая сеть</td>\n",
       "      <td>NaN</td>\n",
       "      <td>55.685873</td>\n",
       "      <td>37.718534</td>\n",
       "      <td>{coordinates=[37.718534, 55.685873], type=Point}</td>\n",
       "      <td>NaN</td>\n",
       "      <td>NaN</td>\n",
       "    </tr>\n",
       "    <tr>\n",
       "      <th>3</th>\n",
       "      <td>879791953</td>\n",
       "      <td>4</td>\n",
       "      <td>Государственное бюджетное учреждение культуры ...</td>\n",
       "      <td>Юго-Восточный административный округ</td>\n",
       "      <td>район Текстильщики</td>\n",
       "      <td>Российская Федерация, город Москва, внутригоро...</td>\n",
       "      <td>6</td>\n",
       "      <td>Moscow_WiFi_Free</td>\n",
       "      <td>50</td>\n",
       "      <td>действует</td>\n",
       "      <td>открытая сеть</td>\n",
       "      <td>NaN</td>\n",
       "      <td>55.710864</td>\n",
       "      <td>37.731299</td>\n",
       "      <td>{coordinates=[37.731299, 55.710864], type=Point}</td>\n",
       "      <td>NaN</td>\n",
       "      <td>NaN</td>\n",
       "    </tr>\n",
       "    <tr>\n",
       "      <th>4</th>\n",
       "      <td>879791961</td>\n",
       "      <td>7</td>\n",
       "      <td>Государственное бюджетное учреждение культуры ...</td>\n",
       "      <td>Северный административный округ</td>\n",
       "      <td>Тимирязевский район</td>\n",
       "      <td>Российская Федерация, город Москва, внутригоро...</td>\n",
       "      <td>3</td>\n",
       "      <td>Moscow_WiFi_Free</td>\n",
       "      <td>50</td>\n",
       "      <td>действует</td>\n",
       "      <td>открытая сеть</td>\n",
       "      <td>NaN</td>\n",
       "      <td>55.814406</td>\n",
       "      <td>37.571210</td>\n",
       "      <td>{coordinates=[37.57121, 55.814406], type=Point}</td>\n",
       "      <td>NaN</td>\n",
       "      <td>NaN</td>\n",
       "    </tr>\n",
       "  </tbody>\n",
       "</table>\n",
       "</div>"
      ],
      "text/plain": [
       "   global_id   ID                                         CinemaName  \\\n",
       "0  global_id  Код                            Наименование кинотеатра   \n",
       "1  879791944    1  Государственное бюджетное учреждение культуры ...   \n",
       "2  879791951    3  Государственное бюджетное учреждение культуры ...   \n",
       "3  879791953    4  Государственное бюджетное учреждение культуры ...   \n",
       "4  879791961    7  Государственное бюджетное учреждение культуры ...   \n",
       "\n",
       "                                   AdmArea             District  \\\n",
       "0                   Административный округ                Район   \n",
       "1  Северо-Восточный административный округ   Останкинский район   \n",
       "2     Юго-Восточный административный округ      район Печатники   \n",
       "3     Юго-Восточный административный округ   район Текстильщики   \n",
       "4          Северный административный округ  Тимирязевский район   \n",
       "\n",
       "                                             Address  \\\n",
       "0                                              Адрес   \n",
       "1  Российская Федерация, город Москва, внутригоро...   \n",
       "2            город Москва, улица Кухмистерова, дом 4   \n",
       "3  Российская Федерация, город Москва, внутригоро...   \n",
       "4  Российская Федерация, город Москва, внутригоро...   \n",
       "\n",
       "       NumberOfAccessPoints          WiFiName             CoverageArea  \\\n",
       "0  Количество точек доступа    Имя Wi-Fi сети  Зона покрытия, в метрах   \n",
       "1                         7  Moscow_WiFi_Free                       50   \n",
       "2                         8  Moscow_WiFi_Free                       50   \n",
       "3                         6  Moscow_WiFi_Free                       50   \n",
       "4                         3  Moscow_WiFi_Free                       50   \n",
       "\n",
       "               FunctionFlag       AccessFlag Password   Latitude_WGS84  \\\n",
       "0  Признак функционирования  Условия доступа   Пароль  Широта в WGS-84   \n",
       "1                 действует    открытая сеть      NaN        55.818675   \n",
       "2                 действует    открытая сеть      NaN        55.685873   \n",
       "3                 действует    открытая сеть      NaN        55.710864   \n",
       "4                 действует    открытая сеть      NaN        55.814406   \n",
       "\n",
       "    Longitude_WGS84                                           geoData  \\\n",
       "0  Долгота в WGS-84                                           geoData   \n",
       "1         37.636778  {coordinates=[37.636778, 55.818675], type=Point}   \n",
       "2         37.718534  {coordinates=[37.718534, 55.685873], type=Point}   \n",
       "3         37.731299  {coordinates=[37.731299, 55.710864], type=Point}   \n",
       "4         37.571210   {coordinates=[37.57121, 55.814406], type=Point}   \n",
       "\n",
       "   geodata_center  Unnamed: 16  \n",
       "0  geodata_center          NaN  \n",
       "1             NaN          NaN  \n",
       "2             NaN          NaN  \n",
       "3             NaN          NaN  \n",
       "4             NaN          NaN  "
      ]
     },
     "execution_count": 3,
     "metadata": {},
     "output_type": "execute_result"
    }
   ],
   "source": [
    "df_csv = pd.read_csv(\"data.csv\", delimiter=';')\n",
    "df_csv.head()"
   ]
  },
  {
   "cell_type": "markdown",
   "metadata": {
    "id": "5WdAK8nhSas0"
   },
   "source": [
    "**Задание 1.4.** Так как первая строка включает определение столбцов, удалить строку с `index=0`."
   ]
  },
  {
   "cell_type": "code",
   "execution_count": 4,
   "metadata": {
    "id": "lUqpf79kSN_p"
   },
   "outputs": [],
   "source": [
    "data = df_csv.drop(df_csv.index[0])"
   ]
  },
  {
   "cell_type": "code",
   "execution_count": 5,
   "metadata": {
    "colab": {
     "base_uri": "https://localhost:8080/",
     "height": 253
    },
    "id": "xYi52qTBST3k",
    "outputId": "3d2249e4-afad-497b-e3ab-b2d4361b536e"
   },
   "outputs": [
    {
     "data": {
      "text/html": [
       "<div>\n",
       "<style scoped>\n",
       "    .dataframe tbody tr th:only-of-type {\n",
       "        vertical-align: middle;\n",
       "    }\n",
       "\n",
       "    .dataframe tbody tr th {\n",
       "        vertical-align: top;\n",
       "    }\n",
       "\n",
       "    .dataframe thead th {\n",
       "        text-align: right;\n",
       "    }\n",
       "</style>\n",
       "<table border=\"1\" class=\"dataframe\">\n",
       "  <thead>\n",
       "    <tr style=\"text-align: right;\">\n",
       "      <th></th>\n",
       "      <th>global_id</th>\n",
       "      <th>ID</th>\n",
       "      <th>CinemaName</th>\n",
       "      <th>AdmArea</th>\n",
       "      <th>District</th>\n",
       "      <th>Address</th>\n",
       "      <th>NumberOfAccessPoints</th>\n",
       "      <th>WiFiName</th>\n",
       "      <th>CoverageArea</th>\n",
       "      <th>FunctionFlag</th>\n",
       "      <th>AccessFlag</th>\n",
       "      <th>Password</th>\n",
       "      <th>Latitude_WGS84</th>\n",
       "      <th>Longitude_WGS84</th>\n",
       "      <th>geoData</th>\n",
       "      <th>geodata_center</th>\n",
       "      <th>Unnamed: 16</th>\n",
       "    </tr>\n",
       "  </thead>\n",
       "  <tbody>\n",
       "    <tr>\n",
       "      <th>1</th>\n",
       "      <td>879791944</td>\n",
       "      <td>1</td>\n",
       "      <td>Государственное бюджетное учреждение культуры ...</td>\n",
       "      <td>Северо-Восточный административный округ</td>\n",
       "      <td>Останкинский район</td>\n",
       "      <td>Российская Федерация, город Москва, внутригоро...</td>\n",
       "      <td>7</td>\n",
       "      <td>Moscow_WiFi_Free</td>\n",
       "      <td>50</td>\n",
       "      <td>действует</td>\n",
       "      <td>открытая сеть</td>\n",
       "      <td>NaN</td>\n",
       "      <td>55.818675</td>\n",
       "      <td>37.636778</td>\n",
       "      <td>{coordinates=[37.636778, 55.818675], type=Point}</td>\n",
       "      <td>NaN</td>\n",
       "      <td>NaN</td>\n",
       "    </tr>\n",
       "    <tr>\n",
       "      <th>2</th>\n",
       "      <td>879791951</td>\n",
       "      <td>3</td>\n",
       "      <td>Государственное бюджетное учреждение культуры ...</td>\n",
       "      <td>Юго-Восточный административный округ</td>\n",
       "      <td>район Печатники</td>\n",
       "      <td>город Москва, улица Кухмистерова, дом 4</td>\n",
       "      <td>8</td>\n",
       "      <td>Moscow_WiFi_Free</td>\n",
       "      <td>50</td>\n",
       "      <td>действует</td>\n",
       "      <td>открытая сеть</td>\n",
       "      <td>NaN</td>\n",
       "      <td>55.685873</td>\n",
       "      <td>37.718534</td>\n",
       "      <td>{coordinates=[37.718534, 55.685873], type=Point}</td>\n",
       "      <td>NaN</td>\n",
       "      <td>NaN</td>\n",
       "    </tr>\n",
       "  </tbody>\n",
       "</table>\n",
       "</div>"
      ],
      "text/plain": [
       "   global_id ID                                         CinemaName  \\\n",
       "1  879791944  1  Государственное бюджетное учреждение культуры ...   \n",
       "2  879791951  3  Государственное бюджетное учреждение культуры ...   \n",
       "\n",
       "                                   AdmArea            District  \\\n",
       "1  Северо-Восточный административный округ  Останкинский район   \n",
       "2     Юго-Восточный административный округ     район Печатники   \n",
       "\n",
       "                                             Address NumberOfAccessPoints  \\\n",
       "1  Российская Федерация, город Москва, внутригоро...                    7   \n",
       "2            город Москва, улица Кухмистерова, дом 4                    8   \n",
       "\n",
       "           WiFiName CoverageArea FunctionFlag     AccessFlag Password  \\\n",
       "1  Moscow_WiFi_Free           50    действует  открытая сеть      NaN   \n",
       "2  Moscow_WiFi_Free           50    действует  открытая сеть      NaN   \n",
       "\n",
       "  Latitude_WGS84 Longitude_WGS84  \\\n",
       "1      55.818675       37.636778   \n",
       "2      55.685873       37.718534   \n",
       "\n",
       "                                            geoData geodata_center  \\\n",
       "1  {coordinates=[37.636778, 55.818675], type=Point}            NaN   \n",
       "2  {coordinates=[37.718534, 55.685873], type=Point}            NaN   \n",
       "\n",
       "   Unnamed: 16  \n",
       "1          NaN  \n",
       "2          NaN  "
      ]
     },
     "execution_count": 5,
     "metadata": {},
     "output_type": "execute_result"
    }
   ],
   "source": [
    "data.head(2)"
   ]
  },
  {
   "cell_type": "code",
   "execution_count": 6,
   "metadata": {
    "colab": {
     "base_uri": "https://localhost:8080/"
    },
    "id": "G7JMkBhHbWqG",
    "outputId": "df544a8c-3456-4ed6-b94b-289307a810cb"
   },
   "outputs": [
    {
     "name": "stdout",
     "output_type": "stream",
     "text": [
      "<class 'pandas.core.frame.DataFrame'>\n",
      "RangeIndex: 12 entries, 0 to 11\n",
      "Data columns (total 17 columns):\n",
      " #   Column                Non-Null Count  Dtype  \n",
      "---  ------                --------------  -----  \n",
      " 0   global_id             12 non-null     object \n",
      " 1   ID                    12 non-null     object \n",
      " 2   CinemaName            12 non-null     object \n",
      " 3   AdmArea               12 non-null     object \n",
      " 4   District              12 non-null     object \n",
      " 5   Address               12 non-null     object \n",
      " 6   NumberOfAccessPoints  12 non-null     object \n",
      " 7   WiFiName              12 non-null     object \n",
      " 8   CoverageArea          12 non-null     object \n",
      " 9   FunctionFlag          12 non-null     object \n",
      " 10  AccessFlag            12 non-null     object \n",
      " 11  Password              1 non-null      object \n",
      " 12  Latitude_WGS84        12 non-null     object \n",
      " 13  Longitude_WGS84       12 non-null     object \n",
      " 14  geoData               12 non-null     object \n",
      " 15  geodata_center        1 non-null      object \n",
      " 16  Unnamed: 16           0 non-null      float64\n",
      "dtypes: float64(1), object(16)\n",
      "memory usage: 1.7+ KB\n"
     ]
    }
   ],
   "source": [
    "df_csv.info()"
   ]
  },
  {
   "cell_type": "markdown",
   "metadata": {
    "id": "5fyK9BVFe2cX"
   },
   "source": [
    "**Задание 1.5.** Выполнить парсинг веб-страницы с помощью `JSON`"
   ]
  },
  {
   "cell_type": "code",
   "execution_count": 7,
   "metadata": {
    "id": "mZX5Wy5nS4I8"
   },
   "outputs": [],
   "source": [
    "# Импорт стандартных пакетов\n",
    "import pandas as pd\n",
    "\n",
    "# Для парсинга веб-страниц\n",
    "import requests as reqs\n",
    "import urllib.request\n",
    "from bs4 import BeautifulSoup\n",
    "import json\n",
    "import os\n",
    "import pprint\n",
    "\n",
    "# Для выполнения операций с регулярными выражениями\n",
    "import re"
   ]
  },
  {
   "cell_type": "code",
   "execution_count": 8,
   "metadata": {
    "colab": {
     "base_uri": "https://localhost:8080/",
     "height": 297
    },
    "id": "4PjIZEI8bYdJ",
    "outputId": "8f9f5991-7886-46f4-acd6-41e892535fe1"
   },
   "outputs": [],
   "source": [
    "resp = reqs.request(method='GET', url='https://apidata.mos.ru/v1/features/60789?api_key=d2c9daab-9ed9-46dd-ac92-e74a521f4109')"
   ]
  },
  {
   "cell_type": "markdown",
   "metadata": {
    "id": "j5kHmjTQgGuU"
   },
   "source": [
    "**Задание 1.6.** Выполнить парсинг веб-страницы с помощью `JSON`. Получите URL-адрес:"
   ]
  },
  {
   "cell_type": "code",
   "execution_count": 9,
   "metadata": {
    "colab": {
     "base_uri": "https://localhost:8080/",
     "height": 146
    },
    "id": "V4MT_7fKgKDE",
    "outputId": "4a2fd9c4-0fbc-4c03-84ef-af53cc106fb0"
   },
   "outputs": [
    {
     "name": "stdout",
     "output_type": "stream",
     "text": [
      "URL: \n",
      "\t https://apidata.mos.ru/v1/features/60789?api_key=d2c9daab-9ed9-46dd-ac92-e74a521f4109\n"
     ]
    }
   ],
   "source": [
    "print(f\"URL: \\n\\t {resp.url}\")"
   ]
  },
  {
   "cell_type": "markdown",
   "metadata": {
    "id": "ZONlhgElgVhZ"
   },
   "source": [
    "**Задание 1.7.** Выполнить парсинг веб-страницы с помощью `JSON`. Определите тип контента:"
   ]
  },
  {
   "cell_type": "code",
   "execution_count": 10,
   "metadata": {
    "id": "rnRYlGxPghJi"
   },
   "outputs": [
    {
     "name": "stdout",
     "output_type": "stream",
     "text": [
      "Content type: \n",
      "\t application/json\n"
     ]
    }
   ],
   "source": [
    "print(f\"Content type: \\n\\t {resp.headers['content-type']}\")"
   ]
  },
  {
   "cell_type": "markdown",
   "metadata": {
    "id": "HYz1ZjjchAXq"
   },
   "source": [
    "**Задание 1.8.** Выполнить парсинг веб-страницы с помощью `JSON`. Обработайте данные с помощью JSON:"
   ]
  },
  {
   "cell_type": "code",
   "execution_count": 11,
   "metadata": {
    "id": "r8Wpu-u-hHCj"
   },
   "outputs": [],
   "source": [
    "if resp.status_code == 200:\n",
    "   json_page = json.loads(resp.text)"
   ]
  },
  {
   "cell_type": "markdown",
   "metadata": {
    "id": "DpnBucrBhRCr"
   },
   "source": [
    "**Задание 1.9.**  Обработайте данные с помощью `JSON`. Посмотреть на ключи:"
   ]
  },
  {
   "cell_type": "code",
   "execution_count": 12,
   "metadata": {
    "id": "KKs3wyTdhax1"
   },
   "outputs": [
    {
     "name": "stdout",
     "output_type": "stream",
     "text": [
      "features\n",
      "type\n"
     ]
    }
   ],
   "source": [
    "for x in json_page:\n",
    "    print(x)"
   ]
  },
  {
   "cell_type": "markdown",
   "metadata": {
    "id": "oBqriFtThn3H"
   },
   "source": [
    "Распечатать ключи и значения:"
   ]
  },
  {
   "cell_type": "code",
   "execution_count": 13,
   "metadata": {
    "id": "peUqDSuQhqIW",
    "scrolled": true
   },
   "outputs": [
    {
     "name": "stdout",
     "output_type": "stream",
     "text": [
      "features --> [{'geometry': {'coordinates': [37.636778, 55.818675], 'type': 'Point'}, 'properties': {'datasetId': 60789, 'attributes': {'is_deleted': 0, 'ID': 1, 'CinemaName': 'Государственное бюджетное учреждение культуры города Москвы «Московское кино» Кинотеатр «Москино Космос»', 'AdmArea': 'Северо-Восточный административный округ', 'District': 'Останкинский район', 'Address': 'Российская Федерация, город Москва, внутригородская территория муниципальный округ Останкинский, проспект Мира, дом 109', 'NumberOfAccessPoints': 7, 'WiFiName': 'Moscow_WiFi_Free', 'CoverageArea': 50, 'FunctionFlag': 'действует', 'AccessFlag': 'открытая сеть', 'Password': '', 'Latitude_WGS84': '55.818675', 'Longitude_WGS84': '37.636778', 'global_id': 879791944}, 'rowId': None, 'versionNumber': 1, 'releaseNumber': 32}, 'type': 'Feature'}, {'geometry': {'coordinates': [37.718534, 55.685873], 'type': 'Point'}, 'properties': {'datasetId': 60789, 'attributes': {'is_deleted': 0, 'ID': 3, 'CinemaName': 'Государственное бюджетное учреждение культуры города Москвы «Московское кино» Кинотеатр «Москино Тула»', 'AdmArea': 'Юго-Восточный административный округ', 'District': 'район Печатники', 'Address': 'город Москва, улица Кухмистерова, дом 4', 'NumberOfAccessPoints': 8, 'WiFiName': 'Moscow_WiFi_Free', 'CoverageArea': 50, 'FunctionFlag': 'действует', 'AccessFlag': 'открытая сеть', 'Password': '', 'Latitude_WGS84': '55.685873', 'Longitude_WGS84': '37.718534', 'global_id': 879791951}, 'rowId': None, 'versionNumber': 1, 'releaseNumber': 32}, 'type': 'Feature'}, {'geometry': {'coordinates': [37.731299, 55.710864], 'type': 'Point'}, 'properties': {'datasetId': 60789, 'attributes': {'is_deleted': 0, 'ID': 4, 'CinemaName': 'Государственное бюджетное учреждение культуры города Москвы «Московское кино» Кинотеатр «Москино Молодежный»', 'AdmArea': 'Юго-Восточный административный округ', 'District': 'район Текстильщики', 'Address': 'Российская Федерация, город Москва, внутригородская территория муниципальный округ Текстильщики, Люблинская улица, дом 11', 'NumberOfAccessPoints': 6, 'WiFiName': 'Moscow_WiFi_Free', 'CoverageArea': 50, 'FunctionFlag': 'действует', 'AccessFlag': 'открытая сеть', 'Password': '', 'Latitude_WGS84': '55.710864', 'Longitude_WGS84': '37.731299', 'global_id': 879791953}, 'rowId': None, 'versionNumber': 1, 'releaseNumber': 32}, 'type': 'Feature'}, {'geometry': {'coordinates': [37.57121, 55.814406], 'type': 'Point'}, 'properties': {'datasetId': 60789, 'attributes': {'is_deleted': 0, 'ID': 7, 'CinemaName': 'Государственное бюджетное учреждение культуры города Москвы «Московское кино» Кинотеатр «Москино Искра»', 'AdmArea': 'Северный административный округ', 'District': 'Тимирязевский район', 'Address': 'Российская Федерация, город Москва, внутригородская территория муниципальный округ Тимирязевский, улица Костякова, дом 10', 'NumberOfAccessPoints': 3, 'WiFiName': 'Moscow_WiFi_Free', 'CoverageArea': 50, 'FunctionFlag': 'действует', 'AccessFlag': 'открытая сеть', 'Password': '', 'Latitude_WGS84': '55.814406', 'Longitude_WGS84': '37.571210', 'global_id': 879791961}, 'rowId': None, 'versionNumber': 1, 'releaseNumber': 32}, 'type': 'Feature'}, {'geometry': {'coordinates': [37.647549, 55.851945], 'type': 'Point'}, 'properties': {'datasetId': 60789, 'attributes': {'is_deleted': 0, 'ID': 9, 'CinemaName': 'Государственное бюджетное учреждение культуры города Москвы «Московское кино» Кинотеатр «Москино Сатурн»', 'AdmArea': 'Северо-Восточный административный округ', 'District': 'район Свиблово', 'Address': 'Российская Федерация, город Москва, внутригородская территория муниципальный округ Свиблово, Снежная улица, дом 18', 'NumberOfAccessPoints': 5, 'WiFiName': 'Moscow_WiFi_Free', 'CoverageArea': 50, 'FunctionFlag': 'действует', 'AccessFlag': 'открытая сеть', 'Password': '', 'Latitude_WGS84': '55.851945', 'Longitude_WGS84': '37.647549', 'global_id': 879791967}, 'rowId': None, 'versionNumber': 1, 'releaseNumber': 32}, 'type': 'Feature'}, {'geometry': {'coordinates': [37.676825, 55.861974], 'type': 'Point'}, 'properties': {'datasetId': 60789, 'attributes': {'is_deleted': 0, 'ID': 2, 'CinemaName': 'Государственное бюджетное учреждение культуры города Москвы «Московское кино» Кинотеатр «Москино Вымпел»', 'AdmArea': 'Северо-Восточный административный округ', 'District': 'Бабушкинский район', 'Address': 'Российская Федерация, город Москва, внутригородская территория муниципальный округ Бабушкинский, улица Коминтерна, дом 8', 'NumberOfAccessPoints': 5, 'WiFiName': 'Moscow_WiFi_Free', 'CoverageArea': 50, 'FunctionFlag': 'действует', 'AccessFlag': 'открытая сеть', 'Password': '', 'Latitude_WGS84': '55.861974', 'Longitude_WGS84': '37.676825', 'global_id': 879795206}, 'rowId': None, 'versionNumber': 1, 'releaseNumber': 32}, 'type': 'Feature'}, {'geometry': {'coordinates': [37.705508, 55.764303], 'type': 'Point'}, 'properties': {'datasetId': 60789, 'attributes': {'is_deleted': 0, 'ID': 5, 'CinemaName': 'Государственное бюджетное учреждение культуры города Москвы «Московское кино» Кинотеатр «Москино Спутник»', 'AdmArea': 'Юго-Восточный административный округ', 'District': 'район Лефортово', 'Address': 'Российская Федерация, город Москва, внутригородская территория муниципальный округ Лефортово, Солдатская улица, дом 15', 'NumberOfAccessPoints': 4, 'WiFiName': 'Moscow_WiFi_Free', 'CoverageArea': 50, 'FunctionFlag': 'действует', 'AccessFlag': 'открытая сеть', 'Password': '', 'Latitude_WGS84': '55.764303', 'Longitude_WGS84': '37.705508', 'global_id': 879795207}, 'rowId': None, 'versionNumber': 1, 'releaseNumber': 32}, 'type': 'Feature'}, {'geometry': {'coordinates': [37.571585, 55.682787], 'type': 'Point'}, 'properties': {'datasetId': 60789, 'attributes': {'is_deleted': 0, 'ID': 6, 'CinemaName': 'Государственное бюджетное учреждение культуры города Москвы «Московское кино» Кинотеатр «Москино Салют»', 'AdmArea': 'Юго-Западный административный округ', 'District': 'Академический район', 'Address': 'Российская Федерация, город Москва, внутригородская территория муниципальный округ Академический, улица Кедрова, дом 14, корпус 1', 'NumberOfAccessPoints': 3, 'WiFiName': 'Moscow_WiFi_Free', 'CoverageArea': 50, 'FunctionFlag': 'действует', 'AccessFlag': 'открытая сеть', 'Password': '', 'Latitude_WGS84': '55.682787', 'Longitude_WGS84': '37.571585', 'global_id': 879795208}, 'rowId': None, 'versionNumber': 1, 'releaseNumber': 32}, 'type': 'Feature'}, {'geometry': {'coordinates': [37.802562, 55.749841], 'type': 'Point'}, 'properties': {'datasetId': 60789, 'attributes': {'is_deleted': 0, 'ID': 8, 'CinemaName': 'Государственное бюджетное учреждение культуры города Москвы «Московское кино» Кинотеатр «Москино Березка»', 'AdmArea': 'Восточный административный округ', 'District': 'район Новогиреево', 'Address': 'Российская Федерация, город Москва, внутригородская территория муниципальный округ Новогиреево, Мартеновская улица, дом 25', 'NumberOfAccessPoints': 6, 'WiFiName': 'Moscow_WiFi_Free', 'CoverageArea': 50, 'FunctionFlag': 'действует', 'AccessFlag': 'открытая сеть', 'Password': '', 'Latitude_WGS84': '55.749841', 'Longitude_WGS84': '37.802562', 'global_id': 879795209}, 'rowId': None, 'versionNumber': 1, 'releaseNumber': 32}, 'type': 'Feature'}, {'geometry': {'coordinates': [37.513395, 55.665309], 'type': 'Point'}, 'properties': {'datasetId': 60789, 'attributes': {'is_deleted': 0, 'ID': 10, 'CinemaName': 'Государственное бюджетное учреждение культуры города Москвы «Киноконцертный зал «Эльдар»', 'AdmArea': 'Юго-Западный административный округ', 'District': 'Обручевский район', 'Address': 'Российская Федерация, город Москва, внутригородская территория муниципальный округ Обручевский, Ленинский проспект, дом 105', 'NumberOfAccessPoints': 5, 'WiFiName': 'Moscow_WiFi_Free', 'CoverageArea': 50, 'FunctionFlag': 'действует', 'AccessFlag': 'открытая сеть', 'Password': '', 'Latitude_WGS84': '55.665309', 'Longitude_WGS84': '37.513395', 'global_id': 879795211}, 'rowId': None, 'versionNumber': 1, 'releaseNumber': 32}, 'type': 'Feature'}, {'geometry': {'coordinates': [37.716144, 55.751817], 'type': 'Point'}, 'properties': {'datasetId': 60789, 'attributes': {'is_deleted': 0, 'ID': 11, 'CinemaName': 'Государственное бюджетное учреждение культуры города Москвы «Московское кино» Кинотеатр «Москино Факел»', 'AdmArea': 'Юго-Восточный административный округ', 'District': 'район Лефортово', 'Address': 'Российская Федерация, город Москва, внутригородская территория муниципальный округ Лефортово, шоссе Энтузиастов, дом 15/16', 'NumberOfAccessPoints': 3, 'WiFiName': 'Moscow_WiFi_Free', 'CoverageArea': 50, 'FunctionFlag': 'действует', 'AccessFlag': 'открытая сеть', 'Password': '', 'Latitude_WGS84': '55.751817', 'Longitude_WGS84': '37.716144', 'global_id': 879795212}, 'rowId': None, 'versionNumber': 1, 'releaseNumber': 32}, 'type': 'Feature'}] \n",
      "\n",
      "type --> FeatureCollection \n",
      "\n"
     ]
    }
   ],
   "source": [
    "for x in json_page:\n",
    "    print(f\"{x} --> {json_page[x]} \\n\")"
   ]
  },
  {
   "cell_type": "code",
   "execution_count": 14,
   "metadata": {
    "id": "FSJj7Ykdhz6O"
   },
   "outputs": [
    {
     "name": "stdout",
     "output_type": "stream",
     "text": [
      "{'features': [{'geometry': {'coordinates': [37.636778, 55.818675],\n",
      "                            'type': 'Point'},\n",
      "               'properties': {'attributes': {'AccessFlag': 'открытая сеть',\n",
      "                                             'Address': 'Российская Федерация, '\n",
      "                                                        'город Москва, '\n",
      "                                                        'внутригородская '\n",
      "                                                        'территория '\n",
      "                                                        'муниципальный округ '\n",
      "                                                        'Останкинский, '\n",
      "                                                        'проспект Мира, дом '\n",
      "                                                        '109',\n",
      "                                             'AdmArea': 'Северо-Восточный '\n",
      "                                                        'административный '\n",
      "                                                        'округ',\n",
      "                                             'CinemaName': 'Государственное '\n",
      "                                                           'бюджетное '\n",
      "                                                           'учреждение '\n",
      "                                                           'культуры города '\n",
      "                                                           'Москвы «Московское '\n",
      "                                                           'кино» Кинотеатр '\n",
      "                                                           '«Москино Космос»',\n",
      "                                             'CoverageArea': 50,\n",
      "                                             'District': 'Останкинский район',\n",
      "                                             'FunctionFlag': 'действует',\n",
      "                                             'ID': 1,\n",
      "                                             'Latitude_WGS84': '55.818675',\n",
      "                                             'Longitude_WGS84': '37.636778',\n",
      "                                             'NumberOfAccessPoints': 7,\n",
      "                                             'Password': '',\n",
      "                                             'WiFiName': 'Moscow_WiFi_Free',\n",
      "                                             'global_id': 879791944,\n",
      "                                             'is_deleted': 0},\n",
      "                              'datasetId': 60789,\n",
      "                              'releaseNumber': 32,\n",
      "                              'rowId': None,\n",
      "                              'versionNumber': 1},\n",
      "               'type': 'Feature'},\n",
      "              {'geometry': {'coordinates': [37.718534, 55.685873],\n",
      "                            'type': 'Point'},\n",
      "               'properties': {'attributes': {'AccessFlag': 'открытая сеть',\n",
      "                                             'Address': 'город Москва, улица '\n",
      "                                                        'Кухмистерова, дом 4',\n",
      "                                             'AdmArea': 'Юго-Восточный '\n",
      "                                                        'административный '\n",
      "                                                        'округ',\n",
      "                                             'CinemaName': 'Государственное '\n",
      "                                                           'бюджетное '\n",
      "                                                           'учреждение '\n",
      "                                                           'культуры города '\n",
      "                                                           'Москвы «Московское '\n",
      "                                                           'кино» Кинотеатр '\n",
      "                                                           '«Москино Тула»',\n",
      "                                             'CoverageArea': 50,\n",
      "                                             'District': 'район Печатники',\n",
      "                                             'FunctionFlag': 'действует',\n",
      "                                             'ID': 3,\n",
      "                                             'Latitude_WGS84': '55.685873',\n",
      "                                             'Longitude_WGS84': '37.718534',\n",
      "                                             'NumberOfAccessPoints': 8,\n",
      "                                             'Password': '',\n",
      "                                             'WiFiName': 'Moscow_WiFi_Free',\n",
      "                                             'global_id': 879791951,\n",
      "                                             'is_deleted': 0},\n",
      "                              'datasetId': 60789,\n",
      "                              'releaseNumber': 32,\n",
      "                              'rowId': None,\n",
      "                              'versionNumber': 1},\n",
      "               'type': 'Feature'},\n",
      "              {'geometry': {'coordinates': [37.731299, 55.710864],\n",
      "                            'type': 'Point'},\n",
      "               'properties': {'attributes': {'AccessFlag': 'открытая сеть',\n",
      "                                             'Address': 'Российская Федерация, '\n",
      "                                                        'город Москва, '\n",
      "                                                        'внутригородская '\n",
      "                                                        'территория '\n",
      "                                                        'муниципальный округ '\n",
      "                                                        'Текстильщики, '\n",
      "                                                        'Люблинская улица, дом '\n",
      "                                                        '11',\n",
      "                                             'AdmArea': 'Юго-Восточный '\n",
      "                                                        'административный '\n",
      "                                                        'округ',\n",
      "                                             'CinemaName': 'Государственное '\n",
      "                                                           'бюджетное '\n",
      "                                                           'учреждение '\n",
      "                                                           'культуры города '\n",
      "                                                           'Москвы «Московское '\n",
      "                                                           'кино» Кинотеатр '\n",
      "                                                           '«Москино '\n",
      "                                                           'Молодежный»',\n",
      "                                             'CoverageArea': 50,\n",
      "                                             'District': 'район Текстильщики',\n",
      "                                             'FunctionFlag': 'действует',\n",
      "                                             'ID': 4,\n",
      "                                             'Latitude_WGS84': '55.710864',\n",
      "                                             'Longitude_WGS84': '37.731299',\n",
      "                                             'NumberOfAccessPoints': 6,\n",
      "                                             'Password': '',\n",
      "                                             'WiFiName': 'Moscow_WiFi_Free',\n",
      "                                             'global_id': 879791953,\n",
      "                                             'is_deleted': 0},\n",
      "                              'datasetId': 60789,\n",
      "                              'releaseNumber': 32,\n",
      "                              'rowId': None,\n",
      "                              'versionNumber': 1},\n",
      "               'type': 'Feature'},\n",
      "              {'geometry': {'coordinates': [37.57121, 55.814406],\n",
      "                            'type': 'Point'},\n",
      "               'properties': {'attributes': {'AccessFlag': 'открытая сеть',\n",
      "                                             'Address': 'Российская Федерация, '\n",
      "                                                        'город Москва, '\n",
      "                                                        'внутригородская '\n",
      "                                                        'территория '\n",
      "                                                        'муниципальный округ '\n",
      "                                                        'Тимирязевский, улица '\n",
      "                                                        'Костякова, дом 10',\n",
      "                                             'AdmArea': 'Северный '\n",
      "                                                        'административный '\n",
      "                                                        'округ',\n",
      "                                             'CinemaName': 'Государственное '\n",
      "                                                           'бюджетное '\n",
      "                                                           'учреждение '\n",
      "                                                           'культуры города '\n",
      "                                                           'Москвы «Московское '\n",
      "                                                           'кино» Кинотеатр '\n",
      "                                                           '«Москино Искра»',\n",
      "                                             'CoverageArea': 50,\n",
      "                                             'District': 'Тимирязевский район',\n",
      "                                             'FunctionFlag': 'действует',\n",
      "                                             'ID': 7,\n",
      "                                             'Latitude_WGS84': '55.814406',\n",
      "                                             'Longitude_WGS84': '37.571210',\n",
      "                                             'NumberOfAccessPoints': 3,\n",
      "                                             'Password': '',\n",
      "                                             'WiFiName': 'Moscow_WiFi_Free',\n",
      "                                             'global_id': 879791961,\n",
      "                                             'is_deleted': 0},\n",
      "                              'datasetId': 60789,\n",
      "                              'releaseNumber': 32,\n",
      "                              'rowId': None,\n",
      "                              'versionNumber': 1},\n",
      "               'type': 'Feature'},\n",
      "              {'geometry': {'coordinates': [37.647549, 55.851945],\n",
      "                            'type': 'Point'},\n",
      "               'properties': {'attributes': {'AccessFlag': 'открытая сеть',\n",
      "                                             'Address': 'Российская Федерация, '\n",
      "                                                        'город Москва, '\n",
      "                                                        'внутригородская '\n",
      "                                                        'территория '\n",
      "                                                        'муниципальный округ '\n",
      "                                                        'Свиблово, Снежная '\n",
      "                                                        'улица, дом 18',\n",
      "                                             'AdmArea': 'Северо-Восточный '\n",
      "                                                        'административный '\n",
      "                                                        'округ',\n",
      "                                             'CinemaName': 'Государственное '\n",
      "                                                           'бюджетное '\n",
      "                                                           'учреждение '\n",
      "                                                           'культуры города '\n",
      "                                                           'Москвы «Московское '\n",
      "                                                           'кино» Кинотеатр '\n",
      "                                                           '«Москино Сатурн»',\n",
      "                                             'CoverageArea': 50,\n",
      "                                             'District': 'район Свиблово',\n",
      "                                             'FunctionFlag': 'действует',\n",
      "                                             'ID': 9,\n",
      "                                             'Latitude_WGS84': '55.851945',\n",
      "                                             'Longitude_WGS84': '37.647549',\n",
      "                                             'NumberOfAccessPoints': 5,\n",
      "                                             'Password': '',\n",
      "                                             'WiFiName': 'Moscow_WiFi_Free',\n",
      "                                             'global_id': 879791967,\n",
      "                                             'is_deleted': 0},\n",
      "                              'datasetId': 60789,\n",
      "                              'releaseNumber': 32,\n",
      "                              'rowId': None,\n",
      "                              'versionNumber': 1},\n",
      "               'type': 'Feature'},\n",
      "              {'geometry': {'coordinates': [37.676825, 55.861974],\n",
      "                            'type': 'Point'},\n",
      "               'properties': {'attributes': {'AccessFlag': 'открытая сеть',\n",
      "                                             'Address': 'Российская Федерация, '\n",
      "                                                        'город Москва, '\n",
      "                                                        'внутригородская '\n",
      "                                                        'территория '\n",
      "                                                        'муниципальный округ '\n",
      "                                                        'Бабушкинский, улица '\n",
      "                                                        'Коминтерна, дом 8',\n",
      "                                             'AdmArea': 'Северо-Восточный '\n",
      "                                                        'административный '\n",
      "                                                        'округ',\n",
      "                                             'CinemaName': 'Государственное '\n",
      "                                                           'бюджетное '\n",
      "                                                           'учреждение '\n",
      "                                                           'культуры города '\n",
      "                                                           'Москвы «Московское '\n",
      "                                                           'кино» Кинотеатр '\n",
      "                                                           '«Москино Вымпел»',\n",
      "                                             'CoverageArea': 50,\n",
      "                                             'District': 'Бабушкинский район',\n",
      "                                             'FunctionFlag': 'действует',\n",
      "                                             'ID': 2,\n",
      "                                             'Latitude_WGS84': '55.861974',\n",
      "                                             'Longitude_WGS84': '37.676825',\n",
      "                                             'NumberOfAccessPoints': 5,\n",
      "                                             'Password': '',\n",
      "                                             'WiFiName': 'Moscow_WiFi_Free',\n",
      "                                             'global_id': 879795206,\n",
      "                                             'is_deleted': 0},\n",
      "                              'datasetId': 60789,\n",
      "                              'releaseNumber': 32,\n",
      "                              'rowId': None,\n",
      "                              'versionNumber': 1},\n",
      "               'type': 'Feature'},\n",
      "              {'geometry': {'coordinates': [37.705508, 55.764303],\n",
      "                            'type': 'Point'},\n",
      "               'properties': {'attributes': {'AccessFlag': 'открытая сеть',\n",
      "                                             'Address': 'Российская Федерация, '\n",
      "                                                        'город Москва, '\n",
      "                                                        'внутригородская '\n",
      "                                                        'территория '\n",
      "                                                        'муниципальный округ '\n",
      "                                                        'Лефортово, Солдатская '\n",
      "                                                        'улица, дом 15',\n",
      "                                             'AdmArea': 'Юго-Восточный '\n",
      "                                                        'административный '\n",
      "                                                        'округ',\n",
      "                                             'CinemaName': 'Государственное '\n",
      "                                                           'бюджетное '\n",
      "                                                           'учреждение '\n",
      "                                                           'культуры города '\n",
      "                                                           'Москвы «Московское '\n",
      "                                                           'кино» Кинотеатр '\n",
      "                                                           '«Москино Спутник»',\n",
      "                                             'CoverageArea': 50,\n",
      "                                             'District': 'район Лефортово',\n",
      "                                             'FunctionFlag': 'действует',\n",
      "                                             'ID': 5,\n",
      "                                             'Latitude_WGS84': '55.764303',\n",
      "                                             'Longitude_WGS84': '37.705508',\n",
      "                                             'NumberOfAccessPoints': 4,\n",
      "                                             'Password': '',\n",
      "                                             'WiFiName': 'Moscow_WiFi_Free',\n",
      "                                             'global_id': 879795207,\n",
      "                                             'is_deleted': 0},\n",
      "                              'datasetId': 60789,\n",
      "                              'releaseNumber': 32,\n",
      "                              'rowId': None,\n",
      "                              'versionNumber': 1},\n",
      "               'type': 'Feature'},\n",
      "              {'geometry': {'coordinates': [37.571585, 55.682787],\n",
      "                            'type': 'Point'},\n",
      "               'properties': {'attributes': {'AccessFlag': 'открытая сеть',\n",
      "                                             'Address': 'Российская Федерация, '\n",
      "                                                        'город Москва, '\n",
      "                                                        'внутригородская '\n",
      "                                                        'территория '\n",
      "                                                        'муниципальный округ '\n",
      "                                                        'Академический, улица '\n",
      "                                                        'Кедрова, дом 14, '\n",
      "                                                        'корпус 1',\n",
      "                                             'AdmArea': 'Юго-Западный '\n",
      "                                                        'административный '\n",
      "                                                        'округ',\n",
      "                                             'CinemaName': 'Государственное '\n",
      "                                                           'бюджетное '\n",
      "                                                           'учреждение '\n",
      "                                                           'культуры города '\n",
      "                                                           'Москвы «Московское '\n",
      "                                                           'кино» Кинотеатр '\n",
      "                                                           '«Москино Салют»',\n",
      "                                             'CoverageArea': 50,\n",
      "                                             'District': 'Академический район',\n",
      "                                             'FunctionFlag': 'действует',\n",
      "                                             'ID': 6,\n",
      "                                             'Latitude_WGS84': '55.682787',\n",
      "                                             'Longitude_WGS84': '37.571585',\n",
      "                                             'NumberOfAccessPoints': 3,\n",
      "                                             'Password': '',\n",
      "                                             'WiFiName': 'Moscow_WiFi_Free',\n",
      "                                             'global_id': 879795208,\n",
      "                                             'is_deleted': 0},\n",
      "                              'datasetId': 60789,\n",
      "                              'releaseNumber': 32,\n",
      "                              'rowId': None,\n",
      "                              'versionNumber': 1},\n",
      "               'type': 'Feature'},\n",
      "              {'geometry': {'coordinates': [37.802562, 55.749841],\n",
      "                            'type': 'Point'},\n",
      "               'properties': {'attributes': {'AccessFlag': 'открытая сеть',\n",
      "                                             'Address': 'Российская Федерация, '\n",
      "                                                        'город Москва, '\n",
      "                                                        'внутригородская '\n",
      "                                                        'территория '\n",
      "                                                        'муниципальный округ '\n",
      "                                                        'Новогиреево, '\n",
      "                                                        'Мартеновская улица, '\n",
      "                                                        'дом 25',\n",
      "                                             'AdmArea': 'Восточный '\n",
      "                                                        'административный '\n",
      "                                                        'округ',\n",
      "                                             'CinemaName': 'Государственное '\n",
      "                                                           'бюджетное '\n",
      "                                                           'учреждение '\n",
      "                                                           'культуры города '\n",
      "                                                           'Москвы «Московское '\n",
      "                                                           'кино» Кинотеатр '\n",
      "                                                           '«Москино Березка»',\n",
      "                                             'CoverageArea': 50,\n",
      "                                             'District': 'район Новогиреево',\n",
      "                                             'FunctionFlag': 'действует',\n",
      "                                             'ID': 8,\n",
      "                                             'Latitude_WGS84': '55.749841',\n",
      "                                             'Longitude_WGS84': '37.802562',\n",
      "                                             'NumberOfAccessPoints': 6,\n",
      "                                             'Password': '',\n",
      "                                             'WiFiName': 'Moscow_WiFi_Free',\n",
      "                                             'global_id': 879795209,\n",
      "                                             'is_deleted': 0},\n",
      "                              'datasetId': 60789,\n",
      "                              'releaseNumber': 32,\n",
      "                              'rowId': None,\n",
      "                              'versionNumber': 1},\n",
      "               'type': 'Feature'},\n",
      "              {'geometry': {'coordinates': [37.513395, 55.665309],\n",
      "                            'type': 'Point'},\n",
      "               'properties': {'attributes': {'AccessFlag': 'открытая сеть',\n",
      "                                             'Address': 'Российская Федерация, '\n",
      "                                                        'город Москва, '\n",
      "                                                        'внутригородская '\n",
      "                                                        'территория '\n",
      "                                                        'муниципальный округ '\n",
      "                                                        'Обручевский, '\n",
      "                                                        'Ленинский проспект, '\n",
      "                                                        'дом 105',\n",
      "                                             'AdmArea': 'Юго-Западный '\n",
      "                                                        'административный '\n",
      "                                                        'округ',\n",
      "                                             'CinemaName': 'Государственное '\n",
      "                                                           'бюджетное '\n",
      "                                                           'учреждение '\n",
      "                                                           'культуры города '\n",
      "                                                           'Москвы '\n",
      "                                                           '«Киноконцертный '\n",
      "                                                           'зал «Эльдар»',\n",
      "                                             'CoverageArea': 50,\n",
      "                                             'District': 'Обручевский район',\n",
      "                                             'FunctionFlag': 'действует',\n",
      "                                             'ID': 10,\n",
      "                                             'Latitude_WGS84': '55.665309',\n",
      "                                             'Longitude_WGS84': '37.513395',\n",
      "                                             'NumberOfAccessPoints': 5,\n",
      "                                             'Password': '',\n",
      "                                             'WiFiName': 'Moscow_WiFi_Free',\n",
      "                                             'global_id': 879795211,\n",
      "                                             'is_deleted': 0},\n",
      "                              'datasetId': 60789,\n",
      "                              'releaseNumber': 32,\n",
      "                              'rowId': None,\n",
      "                              'versionNumber': 1},\n",
      "               'type': 'Feature'},\n",
      "              {'geometry': {'coordinates': [37.716144, 55.751817],\n",
      "                            'type': 'Point'},\n",
      "               'properties': {'attributes': {'AccessFlag': 'открытая сеть',\n",
      "                                             'Address': 'Российская Федерация, '\n",
      "                                                        'город Москва, '\n",
      "                                                        'внутригородская '\n",
      "                                                        'территория '\n",
      "                                                        'муниципальный округ '\n",
      "                                                        'Лефортово, шоссе '\n",
      "                                                        'Энтузиастов, дом '\n",
      "                                                        '15/16',\n",
      "                                             'AdmArea': 'Юго-Восточный '\n",
      "                                                        'административный '\n",
      "                                                        'округ',\n",
      "                                             'CinemaName': 'Государственное '\n",
      "                                                           'бюджетное '\n",
      "                                                           'учреждение '\n",
      "                                                           'культуры города '\n",
      "                                                           'Москвы «Московское '\n",
      "                                                           'кино» Кинотеатр '\n",
      "                                                           '«Москино Факел»',\n",
      "                                             'CoverageArea': 50,\n",
      "                                             'District': 'район Лефортово',\n",
      "                                             'FunctionFlag': 'действует',\n",
      "                                             'ID': 11,\n",
      "                                             'Latitude_WGS84': '55.751817',\n",
      "                                             'Longitude_WGS84': '37.716144',\n",
      "                                             'NumberOfAccessPoints': 3,\n",
      "                                             'Password': '',\n",
      "                                             'WiFiName': 'Moscow_WiFi_Free',\n",
      "                                             'global_id': 879795212,\n",
      "                                             'is_deleted': 0},\n",
      "                              'datasetId': 60789,\n",
      "                              'releaseNumber': 32,\n",
      "                              'rowId': None,\n",
      "                              'versionNumber': 1},\n",
      "               'type': 'Feature'}],\n",
      " 'type': 'FeatureCollection'}\n"
     ]
    }
   ],
   "source": [
    "pprint.pprint(json_page)"
   ]
  },
  {
   "cell_type": "markdown",
   "metadata": {
    "id": "xTubY5cRenax"
   },
   "source": [
    "**Задание 1.10.** Выполнить парсинг веб-страницы с помощью `Beautiful Soup`"
   ]
  },
  {
   "cell_type": "code",
   "execution_count": 15,
   "metadata": {
    "id": "O4itFt8mklPV"
   },
   "outputs": [],
   "source": [
    "from bs4 import BeautifulSoup as bso"
   ]
  },
  {
   "cell_type": "code",
   "execution_count": 16,
   "metadata": {
    "colab": {
     "base_uri": "https://localhost:8080/",
     "height": 315
    },
    "id": "i4qW1Nvkkn-B",
    "outputId": "cd8cbec1-168d-4633-938d-9eb3ac495a10"
   },
   "outputs": [],
   "source": [
    "# Отправление запроса на получение данных и присваивание ответ переменной.\n",
    "source = reqs.get(\"https://apidata.mos.ru/v1/datasets/60789/features?api_key=d2c9daab-9ed9-46dd-ac92-e74a521f4109\")"
   ]
  },
  {
   "cell_type": "code",
   "execution_count": 17,
   "metadata": {
    "id": "yFJqrl6Fa5au"
   },
   "outputs": [
    {
     "name": "stdout",
     "output_type": "stream",
     "text": [
      "Content type: \n",
      "\t application/json\n"
     ]
    }
   ],
   "source": [
    "print(f\"Content type: \\n\\t {source.headers['content-type']}\")"
   ]
  },
  {
   "cell_type": "code",
   "execution_count": 18,
   "metadata": {
    "id": "e0iCRFeOk8QN"
   },
   "outputs": [
    {
     "name": "stdout",
     "output_type": "stream",
     "text": [
      "<Response [200]>\n"
     ]
    }
   ],
   "source": [
    "print(source)"
   ]
  },
  {
   "cell_type": "markdown",
   "metadata": {
    "id": "I2K4PKBZlKjR"
   },
   "source": [
    "**Задание 1.10.1.** Выполнить парсинг веб-страницы с помощью `Beautiful Soup`. Создать beautiful soup объект."
   ]
  },
  {
   "cell_type": "code",
   "execution_count": 19,
   "metadata": {
    "colab": {
     "base_uri": "https://localhost:8080/",
     "height": 146
    },
    "id": "UY_9Ro7alce_",
    "outputId": "01b5042b-572b-4c3c-9790-d6ea568b07b1"
   },
   "outputs": [],
   "source": [
    "mysoup = bso(source.text, 'html.parser')"
   ]
  },
  {
   "cell_type": "markdown",
   "metadata": {
    "id": "9wA_Ko8kleCF"
   },
   "source": [
    "**Задание 1.10.2.** Выполнить парсинг веб-страницы с помощью `Beautiful Soup`. Распечатайте HTML-содержимое страницы, используя метод prettify"
   ]
  },
  {
   "cell_type": "code",
   "execution_count": 20,
   "metadata": {
    "id": "jTbNBgTvltXT",
    "scrolled": true
   },
   "outputs": [
    {
     "name": "stdout",
     "output_type": "stream",
     "text": [
      "{\"features\":[{\"geometry\":{\"coordinates\":[37.636778,55.818675],\"type\":\"Point\"},\"properties\":{\"datasetId\":60789,\"attributes\":{\"is_deleted\":0,\"ID\":1,\"CinemaName\":\"Государственное бюджетное учреждение культуры города Москвы «Московское кино» Кинотеатр «Москино Космос»\",\"AdmArea\":\"Северо-Восточный административный округ\",\"District\":\"Останкинский район\",\"Address\":\"Российская Федерация, город Москва, внутригородская территория муниципальный округ Останкинский, проспект Мира, дом 109\",\"NumberOfAccessPoints\":7,\"WiFiName\":\"Moscow_WiFi_Free\",\"CoverageArea\":50,\"FunctionFlag\":\"действует\",\"AccessFlag\":\"открытая сеть\",\"Password\":\"\",\"Latitude_WGS84\":\"55.818675\",\"Longitude_WGS84\":\"37.636778\",\"global_id\":879791944},\"rowId\":null,\"versionNumber\":1,\"releaseNumber\":32},\"type\":\"Feature\"},{\"geometry\":{\"coordinates\":[37.718534,55.685873],\"type\":\"Point\"},\"properties\":{\"datasetId\":60789,\"attributes\":{\"is_deleted\":0,\"ID\":3,\"CinemaName\":\"Государственное бюджетное учреждение культуры города Москвы «Московское кино» Кинотеатр «Москино Тула»\",\"AdmArea\":\"Юго-Восточный административный округ\",\"District\":\"район Печатники\",\"Address\":\"город Москва, улица Кухмистерова, дом 4\",\"NumberOfAccessPoints\":8,\"WiFiName\":\"Moscow_WiFi_Free\",\"CoverageArea\":50,\"FunctionFlag\":\"действует\",\"AccessFlag\":\"открытая сеть\",\"Password\":\"\",\"Latitude_WGS84\":\"55.685873\",\"Longitude_WGS84\":\"37.718534\",\"global_id\":879791951},\"rowId\":null,\"versionNumber\":1,\"releaseNumber\":32},\"type\":\"Feature\"},{\"geometry\":{\"coordinates\":[37.731299,55.710864],\"type\":\"Point\"},\"properties\":{\"datasetId\":60789,\"attributes\":{\"is_deleted\":0,\"ID\":4,\"CinemaName\":\"Государственное бюджетное учреждение культуры города Москвы «Московское кино» Кинотеатр «Москино Молодежный»\",\"AdmArea\":\"Юго-Восточный административный округ\",\"District\":\"район Текстильщики\",\"Address\":\"Российская Федерация, город Москва, внутригородская территория муниципальный округ Текстильщики, Люблинская улица, дом 11\",\"NumberOfAccessPoints\":6,\"WiFiName\":\"Moscow_WiFi_Free\",\"CoverageArea\":50,\"FunctionFlag\":\"действует\",\"AccessFlag\":\"открытая сеть\",\"Password\":\"\",\"Latitude_WGS84\":\"55.710864\",\"Longitude_WGS84\":\"37.731299\",\"global_id\":879791953},\"rowId\":null,\"versionNumber\":1,\"releaseNumber\":32},\"type\":\"Feature\"},{\"geometry\":{\"coordinates\":[37.57121,55.814406],\"type\":\"Point\"},\"properties\":{\"datasetId\":60789,\"attributes\":{\"is_deleted\":0,\"ID\":7,\"CinemaName\":\"Государственное бюджетное учреждение культуры города Москвы «Московское кино» Кинотеатр «Москино Искра»\",\"AdmArea\":\"Северный административный округ\",\"District\":\"Тимирязевский район\",\"Address\":\"Российская Федерация, город Москва, внутригородская территория муниципальный округ Тимирязевский, улица Костякова, дом 10\",\"NumberOfAccessPoints\":3,\"WiFiName\":\"Moscow_WiFi_Free\",\"CoverageArea\":50,\"FunctionFlag\":\"действует\",\"AccessFlag\":\"открытая сеть\",\"Password\":\"\",\"Latitude_WGS84\":\"55.814406\",\"Longitude_WGS84\":\"37.571210\",\"global_id\":879791961},\"rowId\":null,\"versionNumber\":1,\"releaseNumber\":32},\"type\":\"Feature\"},{\"geometry\":{\"coordinates\":[37.647549,55.851945],\"type\":\"Point\"},\"properties\":{\"datasetId\":60789,\"attributes\":{\"is_deleted\":0,\"ID\":9,\"CinemaName\":\"Государственное бюджетное учреждение культуры города Москвы «Московское кино» Кинотеатр «Москино Сатурн»\",\"AdmArea\":\"Северо-Восточный административный округ\",\"District\":\"район Свиблово\",\"Address\":\"Российская Федерация, город Москва, внутригородская территория муниципальный округ Свиблово, Снежная улица, дом 18\",\"NumberOfAccessPoints\":5,\"WiFiName\":\"Moscow_WiFi_Free\",\"CoverageArea\":50,\"FunctionFlag\":\"действует\",\"AccessFlag\":\"открытая сеть\",\"Password\":\"\",\"Latitude_WGS84\":\"55.851945\",\"Longitude_WGS84\":\"37.647549\",\"global_id\":879791967},\"rowId\":null,\"versionNumber\":1,\"releaseNumber\":32},\"type\":\"Feature\"},{\"geometry\":{\"coordinates\":[37.676825,55.861974],\"type\":\"Point\"},\"properties\":{\"datasetId\":60789,\"attributes\":{\"is_deleted\":0,\"ID\":2,\"CinemaName\":\"Государственное бюджетное учреждение культуры города Москвы «Московское кино» Кинотеатр «Москино Вымпел»\",\"AdmArea\":\"Северо-Восточный административный округ\",\"District\":\"Бабушкинский район\",\"Address\":\"Российская Федерация, город Москва, внутригородская территория муниципальный округ Бабушкинский, улица Коминтерна, дом 8\",\"NumberOfAccessPoints\":5,\"WiFiName\":\"Moscow_WiFi_Free\",\"CoverageArea\":50,\"FunctionFlag\":\"действует\",\"AccessFlag\":\"открытая сеть\",\"Password\":\"\",\"Latitude_WGS84\":\"55.861974\",\"Longitude_WGS84\":\"37.676825\",\"global_id\":879795206},\"rowId\":null,\"versionNumber\":1,\"releaseNumber\":32},\"type\":\"Feature\"},{\"geometry\":{\"coordinates\":[37.705508,55.764303],\"type\":\"Point\"},\"properties\":{\"datasetId\":60789,\"attributes\":{\"is_deleted\":0,\"ID\":5,\"CinemaName\":\"Государственное бюджетное учреждение культуры города Москвы «Московское кино» Кинотеатр «Москино Спутник»\",\"AdmArea\":\"Юго-Восточный административный округ\",\"District\":\"район Лефортово\",\"Address\":\"Российская Федерация, город Москва, внутригородская территория муниципальный округ Лефортово, Солдатская улица, дом 15\",\"NumberOfAccessPoints\":4,\"WiFiName\":\"Moscow_WiFi_Free\",\"CoverageArea\":50,\"FunctionFlag\":\"действует\",\"AccessFlag\":\"открытая сеть\",\"Password\":\"\",\"Latitude_WGS84\":\"55.764303\",\"Longitude_WGS84\":\"37.705508\",\"global_id\":879795207},\"rowId\":null,\"versionNumber\":1,\"releaseNumber\":32},\"type\":\"Feature\"},{\"geometry\":{\"coordinates\":[37.571585,55.682787],\"type\":\"Point\"},\"properties\":{\"datasetId\":60789,\"attributes\":{\"is_deleted\":0,\"ID\":6,\"CinemaName\":\"Государственное бюджетное учреждение культуры города Москвы «Московское кино» Кинотеатр «Москино Салют»\",\"AdmArea\":\"Юго-Западный административный округ\",\"District\":\"Академический район\",\"Address\":\"Российская Федерация, город Москва, внутригородская территория муниципальный округ Академический, улица Кедрова, дом 14, корпус 1\",\"NumberOfAccessPoints\":3,\"WiFiName\":\"Moscow_WiFi_Free\",\"CoverageArea\":50,\"FunctionFlag\":\"действует\",\"AccessFlag\":\"открытая сеть\",\"Password\":\"\",\"Latitude_WGS84\":\"55.682787\",\"Longitude_WGS84\":\"37.571585\",\"global_id\":879795208},\"rowId\":null,\"versionNumber\":1,\"releaseNumber\":32},\"type\":\"Feature\"},{\"geometry\":{\"coordinates\":[37.802562,55.749841],\"type\":\"Point\"},\"properties\":{\"datasetId\":60789,\"attributes\":{\"is_deleted\":0,\"ID\":8,\"CinemaName\":\"Государственное бюджетное учреждение культуры города Москвы «Московское кино» Кинотеатр «Москино Березка»\",\"AdmArea\":\"Восточный административный округ\",\"District\":\"район Новогиреево\",\"Address\":\"Российская Федерация, город Москва, внутригородская территория муниципальный округ Новогиреево, Мартеновская улица, дом 25\",\"NumberOfAccessPoints\":6,\"WiFiName\":\"Moscow_WiFi_Free\",\"CoverageArea\":50,\"FunctionFlag\":\"действует\",\"AccessFlag\":\"открытая сеть\",\"Password\":\"\",\"Latitude_WGS84\":\"55.749841\",\"Longitude_WGS84\":\"37.802562\",\"global_id\":879795209},\"rowId\":null,\"versionNumber\":1,\"releaseNumber\":32},\"type\":\"Feature\"},{\"geometry\":{\"coordinates\":[37.513395,55.665309],\"type\":\"Point\"},\"properties\":{\"datasetId\":60789,\"attributes\":{\"is_deleted\":0,\"ID\":10,\"CinemaName\":\"Государственное бюджетное учреждение культуры города Москвы «Киноконцертный зал «Эльдар»\",\"AdmArea\":\"Юго-Западный административный округ\",\"District\":\"Обручевский район\",\"Address\":\"Российская Федерация, город Москва, внутригородская территория муниципальный округ Обручевский, Ленинский проспект, дом 105\",\"NumberOfAccessPoints\":5,\"WiFiName\":\"Moscow_WiFi_Free\",\"CoverageArea\":50,\"FunctionFlag\":\"действует\",\"AccessFlag\":\"открытая сеть\",\"Password\":\"\",\"Latitude_WGS84\":\"55.665309\",\"Longitude_WGS84\":\"37.513395\",\"global_id\":879795211},\"rowId\":null,\"versionNumber\":1,\"releaseNumber\":32},\"type\":\"Feature\"},{\"geometry\":{\"coordinates\":[37.716144,55.751817],\"type\":\"Point\"},\"properties\":{\"datasetId\":60789,\"attributes\":{\"is_deleted\":0,\"ID\":11,\"CinemaName\":\"Государственное бюджетное учреждение культуры города Москвы «Московское кино» Кинотеатр «Москино Факел»\",\"AdmArea\":\"Юго-Восточный административный округ\",\"District\":\"район Лефортово\",\"Address\":\"Российская Федерация, город Москва, внутригородская территория муниципальный округ Лефортово, шоссе Энтузиастов, дом 15/16\",\"NumberOfAccessPoints\":3,\"WiFiName\":\"Moscow_WiFi_Free\",\"CoverageArea\":50,\"FunctionFlag\":\"действует\",\"AccessFlag\":\"открытая сеть\",\"Password\":\"\",\"Latitude_WGS84\":\"55.751817\",\"Longitude_WGS84\":\"37.716144\",\"global_id\":879795212},\"rowId\":null,\"versionNumber\":1,\"releaseNumber\":32},\"type\":\"Feature\"}],\"type\":\"FeatureCollection\"}\n",
      "\n"
     ]
    }
   ],
   "source": [
    "print(mysoup.prettify())"
   ]
  },
  {
   "cell_type": "markdown",
   "metadata": {
    "id": "MTREZUPtlxmQ"
   },
   "source": [
    "**Задание 1.10.3.** Выполнить парсинг веб-страницы с помощью `Beautiful Soup`. Получить заголовок страницы"
   ]
  },
  {
   "cell_type": "code",
   "execution_count": 21,
   "metadata": {
    "id": "ZLysxT0Ul6oV",
    "scrolled": true
   },
   "outputs": [
    {
     "name": "stdout",
     "output_type": "stream",
     "text": [
      "None\n"
     ]
    }
   ],
   "source": [
    "print(mysoup.title)"
   ]
  },
  {
   "cell_type": "markdown",
   "metadata": {
    "id": "Vgdhx8i3vl0T"
   },
   "source": [
    "**Получение данных из таблиц РСУБД**"
   ]
  },
  {
   "cell_type": "markdown",
   "metadata": {
    "id": "fBd1bLXTwTRY"
   },
   "source": [
    "**Задание 1.11.** Считать результаты запроса sqlite в DataFrame pandas"
   ]
  },
  {
   "cell_type": "code",
   "execution_count": 22,
   "metadata": {
    "id": "sGqUHLPYwNh8"
   },
   "outputs": [
    {
     "data": {
      "text/html": [
       "<div>\n",
       "<style scoped>\n",
       "    .dataframe tbody tr th:only-of-type {\n",
       "        vertical-align: middle;\n",
       "    }\n",
       "\n",
       "    .dataframe tbody tr th {\n",
       "        vertical-align: top;\n",
       "    }\n",
       "\n",
       "    .dataframe thead th {\n",
       "        text-align: right;\n",
       "    }\n",
       "</style>\n",
       "<table border=\"1\" class=\"dataframe\">\n",
       "  <thead>\n",
       "    <tr style=\"text-align: right;\">\n",
       "      <th></th>\n",
       "      <th>id</th>\n",
       "      <th>original_title</th>\n",
       "      <th>budget</th>\n",
       "      <th>popularity</th>\n",
       "      <th>release_date</th>\n",
       "      <th>revenue</th>\n",
       "      <th>title</th>\n",
       "      <th>vote_average</th>\n",
       "      <th>vote_count</th>\n",
       "      <th>overview</th>\n",
       "      <th>tagline</th>\n",
       "      <th>uid</th>\n",
       "      <th>director_id</th>\n",
       "    </tr>\n",
       "  </thead>\n",
       "  <tbody>\n",
       "    <tr>\n",
       "      <th>0</th>\n",
       "      <td>43597</td>\n",
       "      <td>Avatar</td>\n",
       "      <td>237000000</td>\n",
       "      <td>150</td>\n",
       "      <td>2009-12-10</td>\n",
       "      <td>2787965087</td>\n",
       "      <td>Avatar</td>\n",
       "      <td>7.2</td>\n",
       "      <td>11800</td>\n",
       "      <td>In the 22nd century, a paraplegic Marine is di...</td>\n",
       "      <td>Enter the World of Pandora.</td>\n",
       "      <td>19995</td>\n",
       "      <td>4762</td>\n",
       "    </tr>\n",
       "    <tr>\n",
       "      <th>1</th>\n",
       "      <td>43598</td>\n",
       "      <td>Pirates of the Caribbean: At World's End</td>\n",
       "      <td>300000000</td>\n",
       "      <td>139</td>\n",
       "      <td>2007-05-19</td>\n",
       "      <td>961000000</td>\n",
       "      <td>Pirates of the Caribbean: At World's End</td>\n",
       "      <td>6.9</td>\n",
       "      <td>4500</td>\n",
       "      <td>Captain Barbossa, long believed to be dead, ha...</td>\n",
       "      <td>At the end of the world, the adventure begins.</td>\n",
       "      <td>285</td>\n",
       "      <td>4763</td>\n",
       "    </tr>\n",
       "    <tr>\n",
       "      <th>2</th>\n",
       "      <td>43599</td>\n",
       "      <td>Spectre</td>\n",
       "      <td>245000000</td>\n",
       "      <td>107</td>\n",
       "      <td>2015-10-26</td>\n",
       "      <td>880674609</td>\n",
       "      <td>Spectre</td>\n",
       "      <td>6.3</td>\n",
       "      <td>4466</td>\n",
       "      <td>A cryptic message from Bond’s past sends him o...</td>\n",
       "      <td>A Plan No One Escapes</td>\n",
       "      <td>206647</td>\n",
       "      <td>4764</td>\n",
       "    </tr>\n",
       "    <tr>\n",
       "      <th>3</th>\n",
       "      <td>43600</td>\n",
       "      <td>The Dark Knight Rises</td>\n",
       "      <td>250000000</td>\n",
       "      <td>112</td>\n",
       "      <td>2012-07-16</td>\n",
       "      <td>1084939099</td>\n",
       "      <td>The Dark Knight Rises</td>\n",
       "      <td>7.6</td>\n",
       "      <td>9106</td>\n",
       "      <td>Following the death of District Attorney Harve...</td>\n",
       "      <td>The Legend Ends</td>\n",
       "      <td>49026</td>\n",
       "      <td>4765</td>\n",
       "    </tr>\n",
       "    <tr>\n",
       "      <th>4</th>\n",
       "      <td>43601</td>\n",
       "      <td>John Carter</td>\n",
       "      <td>260000000</td>\n",
       "      <td>43</td>\n",
       "      <td>2012-03-07</td>\n",
       "      <td>284139100</td>\n",
       "      <td>John Carter</td>\n",
       "      <td>6.1</td>\n",
       "      <td>2124</td>\n",
       "      <td>John Carter is a war-weary, former military ca...</td>\n",
       "      <td>Lost in our world, found in another.</td>\n",
       "      <td>49529</td>\n",
       "      <td>4766</td>\n",
       "    </tr>\n",
       "  </tbody>\n",
       "</table>\n",
       "</div>"
      ],
      "text/plain": [
       "      id                            original_title     budget  popularity  \\\n",
       "0  43597                                    Avatar  237000000         150   \n",
       "1  43598  Pirates of the Caribbean: At World's End  300000000         139   \n",
       "2  43599                                   Spectre  245000000         107   \n",
       "3  43600                     The Dark Knight Rises  250000000         112   \n",
       "4  43601                               John Carter  260000000          43   \n",
       "\n",
       "  release_date     revenue                                     title  \\\n",
       "0   2009-12-10  2787965087                                    Avatar   \n",
       "1   2007-05-19   961000000  Pirates of the Caribbean: At World's End   \n",
       "2   2015-10-26   880674609                                   Spectre   \n",
       "3   2012-07-16  1084939099                     The Dark Knight Rises   \n",
       "4   2012-03-07   284139100                               John Carter   \n",
       "\n",
       "   vote_average  vote_count  \\\n",
       "0           7.2       11800   \n",
       "1           6.9        4500   \n",
       "2           6.3        4466   \n",
       "3           7.6        9106   \n",
       "4           6.1        2124   \n",
       "\n",
       "                                            overview  \\\n",
       "0  In the 22nd century, a paraplegic Marine is di...   \n",
       "1  Captain Barbossa, long believed to be dead, ha...   \n",
       "2  A cryptic message from Bond’s past sends him o...   \n",
       "3  Following the death of District Attorney Harve...   \n",
       "4  John Carter is a war-weary, former military ca...   \n",
       "\n",
       "                                          tagline     uid  director_id  \n",
       "0                     Enter the World of Pandora.   19995         4762  \n",
       "1  At the end of the world, the adventure begins.     285         4763  \n",
       "2                           A Plan No One Escapes  206647         4764  \n",
       "3                                 The Legend Ends   49026         4765  \n",
       "4            Lost in our world, found in another.   49529         4766  "
      ]
     },
     "execution_count": 22,
     "metadata": {},
     "output_type": "execute_result"
    }
   ],
   "source": [
    "# Считываем результаты запроса sqlite в DataFrame pandas\n",
    "with sqlite3.connect(\"movies.sqlite\") as conn:\n",
    "    df = pd.read_sql(\"SELECT * from movies\", conn)\n",
    "df.head()"
   ]
  },
  {
   "cell_type": "markdown",
   "metadata": {
    "id": "h031gICWwyLR"
   },
   "source": [
    "**Получение данных `Parquet`**"
   ]
  },
  {
   "cell_type": "markdown",
   "metadata": {
    "id": "Wal7CA3dw8Bm"
   },
   "source": [
    "Посетите URL https://www1.nyc.gov/site/tlc/about/tlc-trip-record-data.page."
   ]
  },
  {
   "cell_type": "markdown",
   "metadata": {
    "id": "ruzOMDEsz2pY"
   },
   "source": [
    "**Задание 1.12.** Считайте данные из файла Parquet. Использовать метод pandas read_parquet."
   ]
  },
  {
   "cell_type": "code",
   "execution_count": 23,
   "metadata": {
    "id": "oa1kHoKBzssL"
   },
   "outputs": [
    {
     "data": {
      "text/html": [
       "<div>\n",
       "<style scoped>\n",
       "    .dataframe tbody tr th:only-of-type {\n",
       "        vertical-align: middle;\n",
       "    }\n",
       "\n",
       "    .dataframe tbody tr th {\n",
       "        vertical-align: top;\n",
       "    }\n",
       "\n",
       "    .dataframe thead th {\n",
       "        text-align: right;\n",
       "    }\n",
       "</style>\n",
       "<table border=\"1\" class=\"dataframe\">\n",
       "  <thead>\n",
       "    <tr style=\"text-align: right;\">\n",
       "      <th></th>\n",
       "      <th>VendorID</th>\n",
       "      <th>tpep_pickup_datetime</th>\n",
       "      <th>tpep_dropoff_datetime</th>\n",
       "      <th>passenger_count</th>\n",
       "      <th>trip_distance</th>\n",
       "      <th>RatecodeID</th>\n",
       "      <th>store_and_fwd_flag</th>\n",
       "      <th>PULocationID</th>\n",
       "      <th>DOLocationID</th>\n",
       "      <th>payment_type</th>\n",
       "      <th>fare_amount</th>\n",
       "      <th>extra</th>\n",
       "      <th>mta_tax</th>\n",
       "      <th>tip_amount</th>\n",
       "      <th>tolls_amount</th>\n",
       "      <th>improvement_surcharge</th>\n",
       "      <th>total_amount</th>\n",
       "      <th>congestion_surcharge</th>\n",
       "      <th>Airport_fee</th>\n",
       "    </tr>\n",
       "  </thead>\n",
       "  <tbody>\n",
       "    <tr>\n",
       "      <th>0</th>\n",
       "      <td>2</td>\n",
       "      <td>2023-03-01 00:06:43</td>\n",
       "      <td>2023-03-01 00:16:43</td>\n",
       "      <td>1.0</td>\n",
       "      <td>0.00</td>\n",
       "      <td>1.0</td>\n",
       "      <td>N</td>\n",
       "      <td>238</td>\n",
       "      <td>42</td>\n",
       "      <td>2</td>\n",
       "      <td>8.6</td>\n",
       "      <td>1.0</td>\n",
       "      <td>0.5</td>\n",
       "      <td>0.00</td>\n",
       "      <td>0.0</td>\n",
       "      <td>1.0</td>\n",
       "      <td>11.10</td>\n",
       "      <td>0.0</td>\n",
       "      <td>0.00</td>\n",
       "    </tr>\n",
       "    <tr>\n",
       "      <th>1</th>\n",
       "      <td>2</td>\n",
       "      <td>2023-03-01 00:08:25</td>\n",
       "      <td>2023-03-01 00:39:30</td>\n",
       "      <td>2.0</td>\n",
       "      <td>12.40</td>\n",
       "      <td>1.0</td>\n",
       "      <td>N</td>\n",
       "      <td>138</td>\n",
       "      <td>231</td>\n",
       "      <td>1</td>\n",
       "      <td>52.7</td>\n",
       "      <td>6.0</td>\n",
       "      <td>0.5</td>\n",
       "      <td>12.54</td>\n",
       "      <td>0.0</td>\n",
       "      <td>1.0</td>\n",
       "      <td>76.49</td>\n",
       "      <td>2.5</td>\n",
       "      <td>1.25</td>\n",
       "    </tr>\n",
       "    <tr>\n",
       "      <th>2</th>\n",
       "      <td>1</td>\n",
       "      <td>2023-03-01 00:15:04</td>\n",
       "      <td>2023-03-01 00:29:26</td>\n",
       "      <td>0.0</td>\n",
       "      <td>3.30</td>\n",
       "      <td>1.0</td>\n",
       "      <td>N</td>\n",
       "      <td>140</td>\n",
       "      <td>186</td>\n",
       "      <td>1</td>\n",
       "      <td>18.4</td>\n",
       "      <td>3.5</td>\n",
       "      <td>0.5</td>\n",
       "      <td>4.65</td>\n",
       "      <td>0.0</td>\n",
       "      <td>1.0</td>\n",
       "      <td>28.05</td>\n",
       "      <td>2.5</td>\n",
       "      <td>0.00</td>\n",
       "    </tr>\n",
       "    <tr>\n",
       "      <th>3</th>\n",
       "      <td>1</td>\n",
       "      <td>2023-03-01 00:49:37</td>\n",
       "      <td>2023-03-01 01:01:05</td>\n",
       "      <td>1.0</td>\n",
       "      <td>2.90</td>\n",
       "      <td>1.0</td>\n",
       "      <td>N</td>\n",
       "      <td>140</td>\n",
       "      <td>43</td>\n",
       "      <td>1</td>\n",
       "      <td>15.6</td>\n",
       "      <td>3.5</td>\n",
       "      <td>0.5</td>\n",
       "      <td>4.10</td>\n",
       "      <td>0.0</td>\n",
       "      <td>1.0</td>\n",
       "      <td>24.70</td>\n",
       "      <td>2.5</td>\n",
       "      <td>0.00</td>\n",
       "    </tr>\n",
       "    <tr>\n",
       "      <th>4</th>\n",
       "      <td>2</td>\n",
       "      <td>2023-03-01 00:08:04</td>\n",
       "      <td>2023-03-01 00:11:06</td>\n",
       "      <td>1.0</td>\n",
       "      <td>1.23</td>\n",
       "      <td>1.0</td>\n",
       "      <td>N</td>\n",
       "      <td>79</td>\n",
       "      <td>137</td>\n",
       "      <td>1</td>\n",
       "      <td>7.2</td>\n",
       "      <td>1.0</td>\n",
       "      <td>0.5</td>\n",
       "      <td>2.44</td>\n",
       "      <td>0.0</td>\n",
       "      <td>1.0</td>\n",
       "      <td>14.64</td>\n",
       "      <td>2.5</td>\n",
       "      <td>0.00</td>\n",
       "    </tr>\n",
       "  </tbody>\n",
       "</table>\n",
       "</div>"
      ],
      "text/plain": [
       "   VendorID tpep_pickup_datetime tpep_dropoff_datetime  passenger_count  \\\n",
       "0         2  2023-03-01 00:06:43   2023-03-01 00:16:43              1.0   \n",
       "1         2  2023-03-01 00:08:25   2023-03-01 00:39:30              2.0   \n",
       "2         1  2023-03-01 00:15:04   2023-03-01 00:29:26              0.0   \n",
       "3         1  2023-03-01 00:49:37   2023-03-01 01:01:05              1.0   \n",
       "4         2  2023-03-01 00:08:04   2023-03-01 00:11:06              1.0   \n",
       "\n",
       "   trip_distance  RatecodeID store_and_fwd_flag  PULocationID  DOLocationID  \\\n",
       "0           0.00         1.0                  N           238            42   \n",
       "1          12.40         1.0                  N           138           231   \n",
       "2           3.30         1.0                  N           140           186   \n",
       "3           2.90         1.0                  N           140            43   \n",
       "4           1.23         1.0                  N            79           137   \n",
       "\n",
       "   payment_type  fare_amount  extra  mta_tax  tip_amount  tolls_amount  \\\n",
       "0             2          8.6    1.0      0.5        0.00           0.0   \n",
       "1             1         52.7    6.0      0.5       12.54           0.0   \n",
       "2             1         18.4    3.5      0.5        4.65           0.0   \n",
       "3             1         15.6    3.5      0.5        4.10           0.0   \n",
       "4             1          7.2    1.0      0.5        2.44           0.0   \n",
       "\n",
       "   improvement_surcharge  total_amount  congestion_surcharge  Airport_fee  \n",
       "0                    1.0         11.10                   0.0         0.00  \n",
       "1                    1.0         76.49                   2.5         1.25  \n",
       "2                    1.0         28.05                   2.5         0.00  \n",
       "3                    1.0         24.70                   2.5         0.00  \n",
       "4                    1.0         14.64                   2.5         0.00  "
      ]
     },
     "execution_count": 23,
     "metadata": {},
     "output_type": "execute_result"
    }
   ],
   "source": [
    "df_parquet = pd.read_parquet(r\"yellow_tripdata_2023-03.parquet\")\n",
    "df_parquet.head()"
   ]
  },
  {
   "cell_type": "markdown",
   "metadata": {
    "id": "ay8fDlhJ-2UM"
   },
   "source": [
    "## Задание 1.2.  Выполнить парсинг веб-страниц с помощью Beautiful Soup и Pandas открытых источников данных"
   ]
  },
  {
   "cell_type": "markdown",
   "metadata": {
    "id": "_sPKjl7WjRSz"
   },
   "source": [
    "в доступе по ссылке из варианта отказано (статус 403). данные нашла сама \"Курс валют Банк России\"  (https://cbr.ru/curreNcy_base/daily/)"
   ]
  },
  {
   "cell_type": "markdown",
   "metadata": {
    "id": "L2HGb-AhpT0_"
   },
   "source": [
    "### 1.2.1"
   ]
  },
  {
   "cell_type": "code",
   "execution_count": 24,
   "metadata": {
    "id": "StZB-ntuwzJq"
   },
   "outputs": [],
   "source": [
    "import requests\n",
    "from bs4 import BeautifulSoup as bso\n",
    "import pandas as pd\n",
    "import matplotlib.pyplot as plt"
   ]
  },
  {
   "cell_type": "code",
   "execution_count": 25,
   "metadata": {
    "id": "DgqYJ5-Qw0c7"
   },
   "outputs": [],
   "source": [
    "url = 'https://cbr.ru/curreNcy_base/daily/'"
   ]
  },
  {
   "cell_type": "code",
   "execution_count": 26,
   "metadata": {
    "id": "dEnWGRBqv_A8"
   },
   "outputs": [],
   "source": [
    "response = requests.get(url)\n",
    "soup = BeautifulSoup(response.content, 'html.parser')"
   ]
  },
  {
   "cell_type": "code",
   "execution_count": 27,
   "metadata": {
    "colab": {
     "base_uri": "https://localhost:8080/"
    },
    "id": "XJYdzF7tbWqO",
    "outputId": "4507581f-b59b-40cd-b0df-5504c0b50d53"
   },
   "outputs": [
    {
     "name": "stdout",
     "output_type": "stream",
     "text": [
      "<Response [200]>\n"
     ]
    }
   ],
   "source": [
    "print(response)"
   ]
  },
  {
   "cell_type": "code",
   "execution_count": 28,
   "metadata": {
    "colab": {
     "base_uri": "https://localhost:8080/"
    },
    "id": "fP9_aldIbWqO",
    "outputId": "9c4c3bdf-2518-4873-8d49-9e995bf0cbd0"
   },
   "outputs": [
    {
     "name": "stdout",
     "output_type": "stream",
     "text": [
      "Content type: \n",
      "\t text/html; charset=utf-8\n"
     ]
    }
   ],
   "source": [
    "print(f\"Content type: \\n\\t {response.headers['content-type']}\")"
   ]
  },
  {
   "cell_type": "code",
   "execution_count": 29,
   "metadata": {
    "id": "NfVWhvxgbWqO"
   },
   "outputs": [],
   "source": [
    "mysoup = bso(response.text, 'html.parser')"
   ]
  },
  {
   "cell_type": "code",
   "execution_count": 30,
   "metadata": {
    "colab": {
     "base_uri": "https://localhost:8080/"
    },
    "id": "gZAdOCY_bWqO",
    "outputId": "583ffad0-8630-4208-878d-62b1cbaee35d",
    "scrolled": true
   },
   "outputs": [
    {
     "name": "stdout",
     "output_type": "stream",
     "text": [
      "<!DOCTYPE html>\n",
      "<html>\n",
      " <head>\n",
      "  <meta content=\"text/html; charset=utf-8\" http-equiv=\"Content-Type\"/>\n",
      "  <meta content=\"IE=edge,chrome=1\" http-equiv=\"X-UA-Compatible\"/>\n",
      "  <meta content=\"width=device-width, initial-scale=1, shrink-to-fit=no\" name=\"viewport\"/>\n",
      "  <meta content=\"telephone=no\" name=\"format-detection\">\n",
      "   <meta content=\"ru\" name=\"zoom:lang\">\n",
      "    <meta content=\"Wed, 14 Feb 2024 21:00:00 GMT\" name=\"zoom:last-modified\"/>\n",
      "    <title>\n",
      "     Официальные курсы валют на заданную дату, устанавливаемые ежедневно | Банк России\n",
      "    </title>\n",
      "    <meta content=\"/common/images/share-1.jpg\" property=\"og:image\"/>\n",
      "    <link href=\"/common/libs/jquery-ui/jquery-ui.min.css?v=v599209514\" media=\"all\" rel=\"stylesheet\" type=\"text/css\"/>\n",
      "    <!--[if IE 9]><link rel=\"stylesheet\" type=\"text/css\" href=\"/common/style/main-ie9.css?v=v3099679977\" media=\"all\"><![endif]-->\n",
      "    <!--[if gt IE 9]><!-->\n",
      "    <link href=\"/common/style/main.min.css?v=v3099679977\" media=\"all\" rel=\"stylesheet\" type=\"text/css\"/>\n",
      "    <!-\n"
     ]
    }
   ],
   "source": [
    "print(mysoup.prettify()[:1000])"
   ]
  },
  {
   "cell_type": "code",
   "execution_count": 31,
   "metadata": {
    "colab": {
     "base_uri": "https://localhost:8080/"
    },
    "id": "y2bcSu44bWqP",
    "outputId": "bd1e7698-5291-4967-f512-30611d8fda1e"
   },
   "outputs": [
    {
     "name": "stdout",
     "output_type": "stream",
     "text": [
      "<title>Официальные курсы валют на заданную дату, устанавливаемые ежедневно | Банк России</title>\n"
     ]
    }
   ],
   "source": [
    "print(mysoup.title)"
   ]
  },
  {
   "cell_type": "code",
   "execution_count": 32,
   "metadata": {
    "colab": {
     "base_uri": "https://localhost:8080/"
    },
    "id": "N4m50yX4bWqP",
    "outputId": "63298a4a-3875-469d-9ee2-b935d8630eaa"
   },
   "outputs": [
    {
     "name": "stdout",
     "output_type": "stream",
     "text": [
      "<table class=\"data\">\n",
      "<tbody>\n",
      "<tr>\n",
      "<th>Цифр. код</th>\n",
      "<th>Букв. код</th>\n",
      "<th>Единиц</th>\n",
      "<th>Валюта</th>\n",
      "<th>Курс</th>\n",
      "</tr>\n",
      "<tr>\n",
      "<td>036</td>\n",
      "<td>AUD</td>\n",
      "<td>1</td>\n",
      "<td>Австралийский доллар</td>\n",
      "<td>59,5477</td>\n",
      "</tr>\n",
      "<tr>\n",
      "<td>944</td>\n",
      "<td>AZN</td>\n",
      "<td>1</td>\n",
      "<td>Азербайджанский манат</td>\n",
      "<td>54,0139</td>\n",
      "</tr>\n",
      "<tr>\n",
      "<td>051</td>\n",
      "<td>AMD</td>\n",
      "<td>100</td>\n",
      "<td>Армянских драмов</td>\n",
      "<td>22,7146</td>\n",
      "</tr>\n",
      "<tr>\n",
      "<td>933</td>\n",
      "<td>BYN</td>\n",
      "<td>1</td>\n",
      "<td>Белорусский рубль</td>\n",
      "<td>28,4170</td>\n",
      "</tr>\n",
      "<tr>\n",
      "<td>975</td>\n",
      "<td>BGN</td>\n",
      "<td>1</td>\n",
      "<td>Болгарский лев</td>\n",
      "<td>50,2962</td>\n",
      "</tr>\n",
      "<tr>\n",
      "<td>986</td>\n",
      "<td>BRL</td>\n",
      "<td>1</td>\n",
      "<td>Бразильский реал</td>\n",
      "<td>18,4682</td>\n",
      "</tr>\n",
      "<tr>\n",
      "<td>348</td>\n",
      "<td>HUF</td>\n",
      "<td>100</td>\n",
      "<td>Венгерских форинтов</td>\n",
      "<td>25,3272</td>\n",
      "</tr>\n",
      "<tr>\n",
      "<td>410</td>\n",
      "<td>KRW</td>\n",
      "<td>1000</td>\n",
      "<td>Вон Республики Корея</td>\n",
      "<td>68,8334</td>\n",
      "</tr>\n",
      "<tr>\n",
      "<td>704</td>\n",
      "<td>VND</td>\n",
      "<td>10000</td>\n",
      "<td>Вьетнамских донгов</td>\n",
      "<td>38,2982</td>\n",
      "</tr>\n",
      "<tr>\n",
      "<td>344</td>\n",
      "<td>HKD</td>\n",
      "<td>1</td>\n",
      "<td>Гонконгский доллар</td>\n",
      "<td>11,7632</td>\n",
      "</tr>\n",
      "<tr>\n",
      "<td>981</td>\n",
      "<td>GEL</td>\n",
      "<td>1</td>\n",
      "<td>Грузинский лари</td>\n",
      "<td>34,6727</td>\n",
      "</tr>\n",
      "<tr>\n",
      "<td>208</td>\n",
      "<td>DKK</td>\n",
      "<td>1</td>\n",
      "<td>Датская крона</td>\n",
      "<td>13,1976</td>\n",
      "</tr>\n",
      "<tr>\n",
      "<td>784</td>\n",
      "<td>AED</td>\n",
      "<td>1</td>\n",
      "<td>Дирхам ОАЭ</td>\n",
      "<td>25,0030</td>\n",
      "</tr>\n",
      "<tr>\n",
      "<td>840</td>\n",
      "<td>USD</td>\n",
      "<td>1</td>\n",
      "<td>Доллар США</td>\n",
      "<td>91,8237</td>\n",
      "</tr>\n",
      "<tr>\n",
      "<td>978</td>\n",
      "<td>EUR</td>\n",
      "<td>1</td>\n",
      "<td>Евро</td>\n",
      "<td>98,4099</td>\n",
      "</tr>\n",
      "<tr>\n",
      "<td>818</td>\n",
      "<td>EGP</td>\n",
      "<td>10</td>\n",
      "<td>Египетских фунтов</td>\n",
      "<td>29,7232</td>\n",
      "</tr>\n",
      "<tr>\n",
      "<td>356</td>\n",
      "<td>INR</td>\n",
      "<td>10</td>\n",
      "<td>Индийских рупий</td>\n",
      "<td>11,0663</td>\n",
      "</tr>\n",
      "<tr>\n",
      "<td>360</td>\n",
      "<td>IDR</td>\n",
      "<td>10000</td>\n",
      "<td>Индонезийских рупий</td>\n",
      "<td>58,9180</td>\n",
      "</tr>\n",
      "<tr>\n",
      "<td>398</td>\n",
      "<td>KZT</td>\n",
      "<td>100</td>\n",
      "<td>Казахстанских тенге</td>\n",
      "<td>20,5344</td>\n",
      "</tr>\n",
      "<tr>\n",
      "<td>124</td>\n",
      "<td>CAD</td>\n",
      "<td>1</td>\n",
      "<td>Канадский доллар</td>\n",
      "<td>67,7666</td>\n",
      "</tr>\n",
      "<tr>\n",
      "<td>634</td>\n",
      "<td>QAR</td>\n",
      "<td>1</td>\n",
      "<td>Катарский риал</td>\n",
      "<td>25,2263</td>\n",
      "</tr>\n",
      "<tr>\n",
      "<td>417</td>\n",
      "<td>KGS</td>\n",
      "<td>10</td>\n",
      "<td>Киргизских сомов</td>\n",
      "<td>10,2677</td>\n",
      "</tr>\n",
      "<tr>\n",
      "<td>156</td>\n",
      "<td>CNY</td>\n",
      "<td>1</td>\n",
      "<td>Китайский юань</td>\n",
      "<td>12,6566</td>\n",
      "</tr>\n",
      "<tr>\n",
      "<td>498</td>\n",
      "<td>MDL</td>\n",
      "<td>10</td>\n",
      "<td>Молдавских леев</td>\n",
      "<td>51,6075</td>\n",
      "</tr>\n",
      "<tr>\n",
      "<td>554</td>\n",
      "<td>NZD</td>\n",
      "<td>1</td>\n",
      "<td>Новозеландский доллар</td>\n",
      "<td>55,9252</td>\n",
      "</tr>\n",
      "<tr>\n",
      "<td>934</td>\n",
      "<td>TMT</td>\n",
      "<td>1</td>\n",
      "<td>Новый туркменский манат</td>\n",
      "<td>26,2353</td>\n",
      "</tr>\n",
      "<tr>\n",
      "<td>578</td>\n",
      "<td>NOK</td>\n",
      "<td>10</td>\n",
      "<td>Норвежских крон</td>\n",
      "<td>86,7661</td>\n",
      "</tr>\n",
      "<tr>\n",
      "<td>985</td>\n",
      "<td>PLN</td>\n",
      "<td>1</td>\n",
      "<td>Польский злотый</td>\n",
      "<td>22,6753</td>\n",
      "</tr>\n",
      "<tr>\n",
      "<td>946</td>\n",
      "<td>RON</td>\n",
      "<td>1</td>\n",
      "<td>Румынский лей</td>\n",
      "<td>19,8050</td>\n",
      "</tr>\n",
      "<tr>\n",
      "<td>960</td>\n",
      "<td>XDR</td>\n",
      "<td>1</td>\n",
      "<td>СДР (специальные права заимствования)</td>\n",
      "<td>121,3386</td>\n",
      "</tr>\n",
      "<tr>\n",
      "<td>941</td>\n",
      "<td>RSD</td>\n",
      "<td>100</td>\n",
      "<td>Сербских динаров</td>\n",
      "<td>83,9699</td>\n",
      "</tr>\n",
      "<tr>\n",
      "<td>702</td>\n",
      "<td>SGD</td>\n",
      "<td>1</td>\n",
      "<td>Сингапурский доллар</td>\n",
      "<td>68,1134</td>\n",
      "</tr>\n",
      "<tr>\n",
      "<td>972</td>\n",
      "<td>TJS</td>\n",
      "<td>10</td>\n",
      "<td>Таджикских сомони</td>\n",
      "<td>83,8282</td>\n",
      "</tr>\n",
      "<tr>\n",
      "<td>764</td>\n",
      "<td>THB</td>\n",
      "<td>10</td>\n",
      "<td>Таиландских батов</td>\n",
      "<td>25,4052</td>\n",
      "</tr>\n",
      "<tr>\n",
      "<td>949</td>\n",
      "<td>TRY</td>\n",
      "<td>10</td>\n",
      "<td>Турецких лир</td>\n",
      "<td>29,8992</td>\n",
      "</tr>\n",
      "<tr>\n",
      "<td>860</td>\n",
      "<td>UZS</td>\n",
      "<td>10000</td>\n",
      "<td>Узбекских сумов</td>\n",
      "<td>73,5410</td>\n",
      "</tr>\n",
      "<tr>\n",
      "<td>980</td>\n",
      "<td>UAH</td>\n",
      "<td>10</td>\n",
      "<td>Украинских гривен</td>\n",
      "<td>24,0544</td>\n",
      "</tr>\n",
      "<tr>\n",
      "<td>826</td>\n",
      "<td>GBP</td>\n",
      "<td>1</td>\n",
      "<td>Фунт стерлингов Соединенного королевства</td>\n",
      "<td>115,2296</td>\n",
      "</tr>\n",
      "<tr>\n",
      "<td>203</td>\n",
      "<td>CZK</td>\n",
      "<td>10</td>\n",
      "<td>Чешских крон</td>\n",
      "<td>38,8048</td>\n",
      "</tr>\n",
      "<tr>\n",
      "<td>752</td>\n",
      "<td>SEK</td>\n",
      "<td>10</td>\n",
      "<td>Шведских крон</td>\n",
      "<td>86,9559</td>\n",
      "</tr>\n",
      "<tr>\n",
      "<td>756</td>\n",
      "<td>CHF</td>\n",
      "<td>1</td>\n",
      "<td>Швейцарский франк</td>\n",
      "<td>103,9788</td>\n",
      "</tr>\n",
      "<tr>\n",
      "<td>710</td>\n",
      "<td>ZAR</td>\n",
      "<td>10</td>\n",
      "<td>Южноафриканских рэндов</td>\n",
      "<td>48,3306</td>\n",
      "</tr>\n",
      "<tr>\n",
      "<td>392</td>\n",
      "<td>JPY</td>\n",
      "<td>100</td>\n",
      "<td>Японских иен</td>\n",
      "<td>61,0692</td>\n",
      "</tr>\n",
      "</tbody>\n",
      "</table>\n"
     ]
    }
   ],
   "source": [
    "print(mysoup.table)"
   ]
  },
  {
   "cell_type": "code",
   "execution_count": 33,
   "metadata": {
    "colab": {
     "base_uri": "https://localhost:8080/",
     "height": 206
    },
    "id": "eAlS6dKEbWqP",
    "outputId": "79b29f6d-bf59-496b-e6a7-c95f8e407659"
   },
   "outputs": [
    {
     "data": {
      "text/html": [
       "<div>\n",
       "<style scoped>\n",
       "    .dataframe tbody tr th:only-of-type {\n",
       "        vertical-align: middle;\n",
       "    }\n",
       "\n",
       "    .dataframe tbody tr th {\n",
       "        vertical-align: top;\n",
       "    }\n",
       "\n",
       "    .dataframe thead th {\n",
       "        text-align: right;\n",
       "    }\n",
       "</style>\n",
       "<table border=\"1\" class=\"dataframe\">\n",
       "  <thead>\n",
       "    <tr style=\"text-align: right;\">\n",
       "      <th></th>\n",
       "      <th>Цифр. код</th>\n",
       "      <th>Букв. код</th>\n",
       "      <th>Единиц</th>\n",
       "      <th>Валюта</th>\n",
       "      <th>Курс</th>\n",
       "    </tr>\n",
       "  </thead>\n",
       "  <tbody>\n",
       "    <tr>\n",
       "      <th>0</th>\n",
       "      <td>036</td>\n",
       "      <td>AUD</td>\n",
       "      <td>1</td>\n",
       "      <td>Австралийский доллар</td>\n",
       "      <td>59,5477</td>\n",
       "    </tr>\n",
       "    <tr>\n",
       "      <th>1</th>\n",
       "      <td>944</td>\n",
       "      <td>AZN</td>\n",
       "      <td>1</td>\n",
       "      <td>Азербайджанский манат</td>\n",
       "      <td>54,0139</td>\n",
       "    </tr>\n",
       "    <tr>\n",
       "      <th>2</th>\n",
       "      <td>051</td>\n",
       "      <td>AMD</td>\n",
       "      <td>100</td>\n",
       "      <td>Армянских драмов</td>\n",
       "      <td>22,7146</td>\n",
       "    </tr>\n",
       "    <tr>\n",
       "      <th>3</th>\n",
       "      <td>933</td>\n",
       "      <td>BYN</td>\n",
       "      <td>1</td>\n",
       "      <td>Белорусский рубль</td>\n",
       "      <td>28,4170</td>\n",
       "    </tr>\n",
       "    <tr>\n",
       "      <th>4</th>\n",
       "      <td>975</td>\n",
       "      <td>BGN</td>\n",
       "      <td>1</td>\n",
       "      <td>Болгарский лев</td>\n",
       "      <td>50,2962</td>\n",
       "    </tr>\n",
       "  </tbody>\n",
       "</table>\n",
       "</div>"
      ],
      "text/plain": [
       "  Цифр. код Букв. код Единиц                 Валюта     Курс\n",
       "0       036       AUD      1   Австралийский доллар  59,5477\n",
       "1       944       AZN      1  Азербайджанский манат  54,0139\n",
       "2       051       AMD    100       Армянских драмов  22,7146\n",
       "3       933       BYN      1      Белорусский рубль  28,4170\n",
       "4       975       BGN      1         Болгарский лев  50,2962"
      ]
     },
     "execution_count": 33,
     "metadata": {},
     "output_type": "execute_result"
    }
   ],
   "source": [
    "columns = []\n",
    "data = []\n",
    "\n",
    "for th in mysoup.table.find_all('th'):\n",
    "    columns.append(th.text)\n",
    "\n",
    "for tr in mysoup.table.find_all('tr')[1:]:\n",
    "    row = [td.text for td in tr.find_all('td')]\n",
    "    data.append(row)\n",
    "\n",
    "df = pd.DataFrame(data, columns=columns)\n",
    "\n",
    "df.head()"
   ]
  },
  {
   "cell_type": "markdown",
   "metadata": {
    "id": "P889_zJF-iam"
   },
   "source": [
    "### 1.2.2"
   ]
  },
  {
   "cell_type": "code",
   "execution_count": 34,
   "metadata": {
    "colab": {
     "base_uri": "https://localhost:8080/"
    },
    "id": "uQmTHGtbxNm0",
    "outputId": "afd432cb-7ba3-4d11-b781-b58dd49e0e86"
   },
   "outputs": [
    {
     "name": "stdout",
     "output_type": "stream",
     "text": [
      "<class 'pandas.core.frame.DataFrame'>\n",
      "RangeIndex: 43 entries, 0 to 42\n",
      "Data columns (total 5 columns):\n",
      " #   Column     Non-Null Count  Dtype \n",
      "---  ------     --------------  ----- \n",
      " 0   Цифр. код  43 non-null     object\n",
      " 1   Букв. код  43 non-null     object\n",
      " 2   Единиц     43 non-null     object\n",
      " 3   Валюта     43 non-null     object\n",
      " 4   Курс       43 non-null     object\n",
      "dtypes: object(5)\n",
      "memory usage: 1.8+ KB\n"
     ]
    }
   ],
   "source": [
    "df.info()"
   ]
  },
  {
   "cell_type": "code",
   "execution_count": 35,
   "metadata": {
    "colab": {
     "base_uri": "https://localhost:8080/"
    },
    "id": "lj8n00fZ095b",
    "outputId": "b43a4a52-14df-454e-9cc8-04251533e8f3"
   },
   "outputs": [
    {
     "data": {
      "text/plain": [
       "(43, 5)"
      ]
     },
     "execution_count": 35,
     "metadata": {},
     "output_type": "execute_result"
    }
   ],
   "source": [
    "df.shape"
   ]
  },
  {
   "cell_type": "code",
   "execution_count": 36,
   "metadata": {
    "id": "jPqYlGRDyPBm"
   },
   "outputs": [],
   "source": [
    "df['Курс'] = df['Курс'].str.replace(',', '.').astype(float)\n",
    "df['Курс'] = df['Курс'].astype(float)\n",
    "df['Единиц'] = df['Единиц'].astype(int)"
   ]
  },
  {
   "cell_type": "code",
   "execution_count": 37,
   "metadata": {
    "colab": {
     "base_uri": "https://localhost:8080/"
    },
    "id": "OPD8W_QcyEyn",
    "outputId": "5a03ee24-982e-4a12-8229-10d4def48f9b"
   },
   "outputs": [
    {
     "name": "stdout",
     "output_type": "stream",
     "text": [
      "<class 'pandas.core.frame.DataFrame'>\n",
      "RangeIndex: 43 entries, 0 to 42\n",
      "Data columns (total 5 columns):\n",
      " #   Column     Non-Null Count  Dtype  \n",
      "---  ------     --------------  -----  \n",
      " 0   Цифр. код  43 non-null     object \n",
      " 1   Букв. код  43 non-null     object \n",
      " 2   Единиц     43 non-null     int32  \n",
      " 3   Валюта     43 non-null     object \n",
      " 4   Курс       43 non-null     float64\n",
      "dtypes: float64(1), int32(1), object(3)\n",
      "memory usage: 1.6+ KB\n"
     ]
    }
   ],
   "source": [
    "df.info()"
   ]
  },
  {
   "cell_type": "code",
   "execution_count": 38,
   "metadata": {
    "id": "UMX2kpmLKU1_"
   },
   "outputs": [],
   "source": [
    "df = df.drop(columns=df.columns[:2])"
   ]
  },
  {
   "cell_type": "markdown",
   "metadata": {},
   "source": [
    "Удаляю лишние столбца"
   ]
  },
  {
   "cell_type": "code",
   "execution_count": 39,
   "metadata": {
    "colab": {
     "base_uri": "https://localhost:8080/"
    },
    "id": "3NWoYSoklHQf",
    "outputId": "e5f5e5d4-961b-4a96-86b1-7480fb55eeb4"
   },
   "outputs": [
    {
     "name": "stdout",
     "output_type": "stream",
     "text": [
      "<class 'pandas.core.frame.DataFrame'>\n",
      "RangeIndex: 43 entries, 0 to 42\n",
      "Data columns (total 3 columns):\n",
      " #   Column  Non-Null Count  Dtype  \n",
      "---  ------  --------------  -----  \n",
      " 0   Единиц  43 non-null     int32  \n",
      " 1   Валюта  43 non-null     object \n",
      " 2   Курс    43 non-null     float64\n",
      "dtypes: float64(1), int32(1), object(1)\n",
      "memory usage: 988.0+ bytes\n"
     ]
    }
   ],
   "source": [
    "df.info()"
   ]
  },
  {
   "cell_type": "markdown",
   "metadata": {
    "id": "te7du-82_BGQ"
   },
   "source": [
    "### 1.2.3."
   ]
  },
  {
   "cell_type": "code",
   "execution_count": 40,
   "metadata": {
    "colab": {
     "base_uri": "https://localhost:8080/",
     "height": 143
    },
    "id": "eqBioGA7LHKz",
    "outputId": "56a22aa5-0596-4634-be15-5ed28a89f47d"
   },
   "outputs": [
    {
     "data": {
      "text/html": [
       "<div>\n",
       "<style scoped>\n",
       "    .dataframe tbody tr th:only-of-type {\n",
       "        vertical-align: middle;\n",
       "    }\n",
       "\n",
       "    .dataframe tbody tr th {\n",
       "        vertical-align: top;\n",
       "    }\n",
       "\n",
       "    .dataframe thead th {\n",
       "        text-align: right;\n",
       "    }\n",
       "</style>\n",
       "<table border=\"1\" class=\"dataframe\">\n",
       "  <thead>\n",
       "    <tr style=\"text-align: right;\">\n",
       "      <th></th>\n",
       "      <th>Единиц</th>\n",
       "      <th>Валюта</th>\n",
       "      <th>Курс</th>\n",
       "    </tr>\n",
       "  </thead>\n",
       "  <tbody>\n",
       "    <tr>\n",
       "      <th>0</th>\n",
       "      <td>1</td>\n",
       "      <td>Австралийский доллар</td>\n",
       "      <td>59.5477</td>\n",
       "    </tr>\n",
       "    <tr>\n",
       "      <th>1</th>\n",
       "      <td>1</td>\n",
       "      <td>Азербайджанский манат</td>\n",
       "      <td>54.0139</td>\n",
       "    </tr>\n",
       "    <tr>\n",
       "      <th>2</th>\n",
       "      <td>100</td>\n",
       "      <td>Армянских драмов</td>\n",
       "      <td>22.7146</td>\n",
       "    </tr>\n",
       "  </tbody>\n",
       "</table>\n",
       "</div>"
      ],
      "text/plain": [
       "   Единиц                 Валюта     Курс\n",
       "0       1   Австралийский доллар  59.5477\n",
       "1       1  Азербайджанский манат  54.0139\n",
       "2     100       Армянских драмов  22.7146"
      ]
     },
     "execution_count": 40,
     "metadata": {},
     "output_type": "execute_result"
    }
   ],
   "source": [
    "df.head(3)"
   ]
  },
  {
   "cell_type": "code",
   "execution_count": 41,
   "metadata": {
    "colab": {
     "base_uri": "https://localhost:8080/"
    },
    "id": "KnM6JNKDCVda",
    "outputId": "8ed19dae-7821-4ae8-dcfc-fd10e97ef3d2"
   },
   "outputs": [
    {
     "name": "stdout",
     "output_type": "stream",
     "text": [
      "Минимальный курс 10.2677\n"
     ]
    }
   ],
   "source": [
    "print(f'Минимальный курс {min(df[\"Курс\"])}')"
   ]
  },
  {
   "cell_type": "code",
   "execution_count": 42,
   "metadata": {
    "colab": {
     "base_uri": "https://localhost:8080/"
    },
    "id": "3eqiEGvglq9F",
    "outputId": "b82bebc3-3744-49ba-8768-a63a3dc4a32b"
   },
   "outputs": [
    {
     "name": "stdout",
     "output_type": "stream",
     "text": [
      "Минимальный курс 121.3386\n"
     ]
    }
   ],
   "source": [
    "print(f'Минимальный курс {max(df[\"Курс\"])}')"
   ]
  },
  {
   "cell_type": "code",
   "execution_count": 43,
   "metadata": {
    "id": "O4Tr7RW__Gw0"
   },
   "outputs": [],
   "source": [
    "df1 = df.pivot_table(index='Валюта', values='Курс').sort_values(by='Курс', ascending=False).head(43)\n",
    "df1_top25 = df1.head(25)"
   ]
  },
  {
   "cell_type": "code",
   "execution_count": 44,
   "metadata": {
    "colab": {
     "base_uri": "https://localhost:8080/",
     "height": 329
    },
    "id": "xroRQOI8mqvL",
    "outputId": "5af63f50-7f26-47fb-dab6-4014c22545b7"
   },
   "outputs": [
    {
     "data": {
      "image/png": "[encoded data removed]",
      "text/plain": [
       "<Figure size 1000x300 with 1 Axes>"
      ]
     },
     "metadata": {},
     "output_type": "display_data"
    }
   ],
   "source": [
    "df1_top25.plot(kind='barh', figsize=(10, 3), color='pink')\n",
    "plt.xticks(rotation=-60)\n",
    "plt.title('Дорогие валюты')\n",
    "plt.show()"
   ]
  },
  {
   "cell_type": "code",
   "execution_count": 45,
   "metadata": {
    "id": "qs7isO2Bo2T9"
   },
   "outputs": [],
   "source": [
    "df2 = df.pivot_table(index='Валюта', values='Курс').sort_values(by='Курс', ascending=True).head(43)\n",
    "df2_antitop = df2.head(18)"
   ]
  },
  {
   "cell_type": "code",
   "execution_count": 46,
   "metadata": {
    "colab": {
     "base_uri": "https://localhost:8080/",
     "height": 497
    },
    "id": "uoiV8JivpThy",
    "outputId": "4f974e38-fb86-4b4f-baa1-6983ec246bd9"
   },
   "outputs": [
    {
     "data": {
      "image/png": "[encoded data removed]",
      "text/plain": [
       "<Figure size 1000x300 with 1 Axes>"
      ]
     },
     "metadata": {},
     "output_type": "display_data"
    }
   ],
   "source": [
    "df2_antitop.plot(kind='bar', figsize=(10, 3), color=['purple'])\n",
    "plt.xticks(rotation=-60)\n",
    "plt.title('Разпределение дешевых валют')\n",
    "plt.show()"
   ]
  },
  {
   "cell_type": "code",
   "execution_count": 47,
   "metadata": {
    "colab": {
     "base_uri": "https://localhost:8080/",
     "height": 237
    },
    "id": "coZBV83d9Soj",
    "outputId": "94aecf16-121c-4141-af9a-4bde32ddb469"
   },
   "outputs": [
    {
     "data": {
      "text/html": [
       "<div>\n",
       "<style scoped>\n",
       "    .dataframe tbody tr th:only-of-type {\n",
       "        vertical-align: middle;\n",
       "    }\n",
       "\n",
       "    .dataframe tbody tr th {\n",
       "        vertical-align: top;\n",
       "    }\n",
       "\n",
       "    .dataframe thead th {\n",
       "        text-align: right;\n",
       "    }\n",
       "</style>\n",
       "<table border=\"1\" class=\"dataframe\">\n",
       "  <thead>\n",
       "    <tr style=\"text-align: right;\">\n",
       "      <th></th>\n",
       "      <th>Единиц</th>\n",
       "    </tr>\n",
       "    <tr>\n",
       "      <th>Валюта</th>\n",
       "      <th></th>\n",
       "    </tr>\n",
       "  </thead>\n",
       "  <tbody>\n",
       "    <tr>\n",
       "      <th>Индонезийских рупий</th>\n",
       "      <td>10000</td>\n",
       "    </tr>\n",
       "    <tr>\n",
       "      <th>Узбекских сумов</th>\n",
       "      <td>10000</td>\n",
       "    </tr>\n",
       "    <tr>\n",
       "      <th>Вьетнамских донгов</th>\n",
       "      <td>10000</td>\n",
       "    </tr>\n",
       "    <tr>\n",
       "      <th>Вон Республики Корея</th>\n",
       "      <td>1000</td>\n",
       "    </tr>\n",
       "    <tr>\n",
       "      <th>Сербских динаров</th>\n",
       "      <td>100</td>\n",
       "    </tr>\n",
       "  </tbody>\n",
       "</table>\n",
       "</div>"
      ],
      "text/plain": [
       "                      Единиц\n",
       "Валюта                      \n",
       "Индонезийских рупий    10000\n",
       "Узбекских сумов        10000\n",
       "Вьетнамских донгов     10000\n",
       "Вон Республики Корея    1000\n",
       "Сербских динаров         100"
      ]
     },
     "execution_count": 47,
     "metadata": {},
     "output_type": "execute_result"
    }
   ],
   "source": [
    "df2 = df.pivot_table(index='Валюта', values='Единиц').sort_values(by='Единиц', ascending=False)\n",
    "df2.head(5)"
   ]
  },
  {
   "cell_type": "code",
   "execution_count": 48,
   "metadata": {
    "colab": {
     "base_uri": "https://localhost:8080/",
     "height": 428
    },
    "id": "VSYk0mKE_1DC",
    "outputId": "8ac873eb-6dd6-4e05-cfef-b55efcf66904"
   },
   "outputs": [
    {
     "data": {
      "image/png": "[encoded data removed]",
      "text/plain": [
       "<Figure size 640x480 with 1 Axes>"
      ]
     },
     "metadata": {},
     "output_type": "display_data"
    }
   ],
   "source": [
    "df1_top7 = df1.head(7)\n",
    "\n",
    "df1_top7.plot(kind='pie', subplots=True, legend=False, autopct='%1.1f%%')\n",
    "plt.title('Топ-7  валют по единицам')\n",
    "plt.show()"
   ]
  },
  {
   "cell_type": "markdown",
   "metadata": {
    "id": "JYd1QoP1Lw8l"
   },
   "source": [
    "## Задание 1.3. Выполнить парсинг коллекции данных на Портале открытых данных Правительства Москвы"
   ]
  },
  {
   "cell_type": "markdown",
   "metadata": {
    "id": "S9k3klYcbWqU"
   },
   "source": [
    "Аэропорты (https://data.mos.ru/opendata/62883?isDynamic=false)"
   ]
  },
  {
   "cell_type": "code",
   "execution_count": 49,
   "metadata": {
    "id": "z5XtRB3nNaKQ"
   },
   "outputs": [],
   "source": [
    "# Импорт стандартных пакетов\n",
    "import pandas as pd\n",
    "\n",
    "# Для парсинга веб-страниц\n",
    "import requests as reqs\n",
    "import urllib.request\n",
    "from bs4 import BeautifulSoup\n",
    "import json\n",
    "import os\n",
    "import pprint\n",
    "from bs4 import BeautifulSoup as bso\n",
    "\n",
    "# Для выполнения операций с регулярными выражениями\n",
    "import re"
   ]
  },
  {
   "cell_type": "code",
   "execution_count": 50,
   "metadata": {
    "colab": {
     "base_uri": "https://localhost:8080/"
    },
    "id": "sM-e6W2ZQO0q",
    "outputId": "db3ccf86-6ece-45d2-bc8a-5aa731a52d75"
   },
   "outputs": [],
   "source": [
    "resp = reqs.request(method='GET', url='https://apidata.mos.ru/v1/features/62883?api_key=d2c9daab-9ed9-46dd-ac92-e74a521f4109')"
   ]
  },
  {
   "cell_type": "code",
   "execution_count": 51,
   "metadata": {
    "colab": {
     "base_uri": "https://localhost:8080/"
    },
    "id": "TrARdpSRbWqU",
    "outputId": "8cb0f5e3-d67a-4b08-8964-79bce3066530"
   },
   "outputs": [
    {
     "name": "stdout",
     "output_type": "stream",
     "text": [
      "URL: \n",
      "\t https://apidata.mos.ru/v1/features/62883?api_key=d2c9daab-9ed9-46dd-ac92-e74a521f4109\n"
     ]
    }
   ],
   "source": [
    "print(f\"URL: \\n\\t {resp.url}\")"
   ]
  },
  {
   "cell_type": "code",
   "execution_count": 52,
   "metadata": {
    "colab": {
     "base_uri": "https://localhost:8080/"
    },
    "id": "Ous3N5uBbWqU",
    "outputId": "efe8e314-df8f-4ee1-8074-85204ff1d0b4"
   },
   "outputs": [
    {
     "name": "stdout",
     "output_type": "stream",
     "text": [
      "Content type: \n",
      "\t application/json\n"
     ]
    }
   ],
   "source": [
    "print(f\"Content type: \\n\\t {resp.headers['content-type']}\")"
   ]
  },
  {
   "cell_type": "code",
   "execution_count": 53,
   "metadata": {
    "colab": {
     "base_uri": "https://localhost:8080/",
     "height": 424
    },
    "id": "HC8kHHTzbWqV",
    "outputId": "ab825e22-7f46-42c4-eacc-c7e70620c668"
   },
   "outputs": [],
   "source": [
    "if resp.status_code == 200:\n",
    "    json_data = resp.json()  # Преобразуем JSON-ответ в словарь Python\n",
    "\n",
    "    features = json_data['features']\n",
    "\n",
    "    # Создаем датафрейм из полученных данных\n",
    "    df = pd.json_normalize(features)\n",
    "else:\n",
    "    print('Запрос вернул статус:', response.status_code)"
   ]
  },
  {
   "cell_type": "code",
   "execution_count": 54,
   "metadata": {
    "id": "-K6P-xlsbWqV"
   },
   "outputs": [
    {
     "data": {
      "text/html": [
       "<div>\n",
       "<style scoped>\n",
       "    .dataframe tbody tr th:only-of-type {\n",
       "        vertical-align: middle;\n",
       "    }\n",
       "\n",
       "    .dataframe tbody tr th {\n",
       "        vertical-align: top;\n",
       "    }\n",
       "\n",
       "    .dataframe thead th {\n",
       "        text-align: right;\n",
       "    }\n",
       "</style>\n",
       "<table border=\"1\" class=\"dataframe\">\n",
       "  <thead>\n",
       "    <tr style=\"text-align: right;\">\n",
       "      <th></th>\n",
       "      <th>type</th>\n",
       "      <th>geometry.coordinates</th>\n",
       "      <th>geometry.type</th>\n",
       "      <th>properties.datasetId</th>\n",
       "      <th>properties.attributes.is_deleted</th>\n",
       "      <th>properties.attributes.ID</th>\n",
       "      <th>properties.attributes.Name</th>\n",
       "      <th>properties.attributes.Aeroexpress</th>\n",
       "      <th>properties.attributes.AeroexpressStation.global_id</th>\n",
       "      <th>properties.attributes.AeroexpressStation.value</th>\n",
       "      <th>...</th>\n",
       "      <th>properties.attributes.AeroexpressWorkingHours</th>\n",
       "      <th>properties.attributes.MCDStation</th>\n",
       "      <th>properties.attributes.RailwayStation</th>\n",
       "      <th>properties.attributes.Latitude_WGS84</th>\n",
       "      <th>properties.attributes.Longitude_WGS84</th>\n",
       "      <th>properties.attributes.global_id</th>\n",
       "      <th>properties.rowId</th>\n",
       "      <th>properties.versionNumber</th>\n",
       "      <th>properties.releaseNumber</th>\n",
       "      <th>properties.attributes.AeroexpressStation</th>\n",
       "    </tr>\n",
       "  </thead>\n",
       "  <tbody>\n",
       "    <tr>\n",
       "      <th>0</th>\n",
       "      <td>Feature</td>\n",
       "      <td>[37.900526, 55.414307]</td>\n",
       "      <td>Point</td>\n",
       "      <td>62883</td>\n",
       "      <td>0</td>\n",
       "      <td>1</td>\n",
       "      <td>Домодедово</td>\n",
       "      <td>есть</td>\n",
       "      <td>1.508979e+09</td>\n",
       "      <td>Аэропорт Домодедово</td>\n",
       "      <td>...</td>\n",
       "      <td>5:30 - 23:30 (с Павелецкого вокзала), 6:00 - 0...</td>\n",
       "      <td>[]</td>\n",
       "      <td>[]</td>\n",
       "      <td>55.414307</td>\n",
       "      <td>37.900526</td>\n",
       "      <td>1272818040</td>\n",
       "      <td>None</td>\n",
       "      <td>1</td>\n",
       "      <td>22</td>\n",
       "      <td>NaN</td>\n",
       "    </tr>\n",
       "    <tr>\n",
       "      <th>1</th>\n",
       "      <td>Feature</td>\n",
       "      <td>[37.415713, 55.966771]</td>\n",
       "      <td>Point</td>\n",
       "      <td>62883</td>\n",
       "      <td>0</td>\n",
       "      <td>2</td>\n",
       "      <td>Шереметьево</td>\n",
       "      <td>есть</td>\n",
       "      <td>1.508983e+09</td>\n",
       "      <td>Аэропорт Шереметьево</td>\n",
       "      <td>...</td>\n",
       "      <td>5:15 - 00:31 (с Белорусского вокзала), 04:43 -...</td>\n",
       "      <td>[]</td>\n",
       "      <td>[]</td>\n",
       "      <td>55.966771</td>\n",
       "      <td>37.415713</td>\n",
       "      <td>1272818309</td>\n",
       "      <td>None</td>\n",
       "      <td>1</td>\n",
       "      <td>22</td>\n",
       "      <td>NaN</td>\n",
       "    </tr>\n",
       "    <tr>\n",
       "      <th>2</th>\n",
       "      <td>Feature</td>\n",
       "      <td>[37.286287, 55.605059]</td>\n",
       "      <td>Point</td>\n",
       "      <td>62883</td>\n",
       "      <td>0</td>\n",
       "      <td>3</td>\n",
       "      <td>Внуково</td>\n",
       "      <td>есть</td>\n",
       "      <td>1.508979e+09</td>\n",
       "      <td>Аэропорт Внуково</td>\n",
       "      <td>...</td>\n",
       "      <td>6:00 - 23:00 (с Киевского вокзала), 6:00 - 23:...</td>\n",
       "      <td>[]</td>\n",
       "      <td>[]</td>\n",
       "      <td>55.605059</td>\n",
       "      <td>37.286287</td>\n",
       "      <td>1272818481</td>\n",
       "      <td>None</td>\n",
       "      <td>1</td>\n",
       "      <td>22</td>\n",
       "      <td>NaN</td>\n",
       "    </tr>\n",
       "    <tr>\n",
       "      <th>3</th>\n",
       "      <td>Feature</td>\n",
       "      <td>[37.510824, 55.502859]</td>\n",
       "      <td>Point</td>\n",
       "      <td>62883</td>\n",
       "      <td>0</td>\n",
       "      <td>4</td>\n",
       "      <td>Остафьево</td>\n",
       "      <td>нет</td>\n",
       "      <td>NaN</td>\n",
       "      <td>NaN</td>\n",
       "      <td>...</td>\n",
       "      <td></td>\n",
       "      <td>[]</td>\n",
       "      <td>[]</td>\n",
       "      <td>55.502859</td>\n",
       "      <td>37.510824</td>\n",
       "      <td>1272818826</td>\n",
       "      <td>None</td>\n",
       "      <td>1</td>\n",
       "      <td>22</td>\n",
       "      <td>[]</td>\n",
       "    </tr>\n",
       "    <tr>\n",
       "      <th>4</th>\n",
       "      <td>Feature</td>\n",
       "      <td>[38.117812, 55.56155]</td>\n",
       "      <td>Point</td>\n",
       "      <td>62883</td>\n",
       "      <td>0</td>\n",
       "      <td>5</td>\n",
       "      <td>Жуковский</td>\n",
       "      <td>нет</td>\n",
       "      <td>NaN</td>\n",
       "      <td>NaN</td>\n",
       "      <td>...</td>\n",
       "      <td></td>\n",
       "      <td>[]</td>\n",
       "      <td>[]</td>\n",
       "      <td>55.561550</td>\n",
       "      <td>38.117812</td>\n",
       "      <td>1272818941</td>\n",
       "      <td>None</td>\n",
       "      <td>1</td>\n",
       "      <td>22</td>\n",
       "      <td>[]</td>\n",
       "    </tr>\n",
       "  </tbody>\n",
       "</table>\n",
       "<p>5 rows × 23 columns</p>\n",
       "</div>"
      ],
      "text/plain": [
       "      type    geometry.coordinates geometry.type  properties.datasetId  \\\n",
       "0  Feature  [37.900526, 55.414307]         Point                 62883   \n",
       "1  Feature  [37.415713, 55.966771]         Point                 62883   \n",
       "2  Feature  [37.286287, 55.605059]         Point                 62883   \n",
       "3  Feature  [37.510824, 55.502859]         Point                 62883   \n",
       "4  Feature   [38.117812, 55.56155]         Point                 62883   \n",
       "\n",
       "   properties.attributes.is_deleted  properties.attributes.ID  \\\n",
       "0                                 0                         1   \n",
       "1                                 0                         2   \n",
       "2                                 0                         3   \n",
       "3                                 0                         4   \n",
       "4                                 0                         5   \n",
       "\n",
       "  properties.attributes.Name properties.attributes.Aeroexpress  \\\n",
       "0                 Домодедово                              есть   \n",
       "1                Шереметьево                              есть   \n",
       "2                    Внуково                              есть   \n",
       "3                  Остафьево                               нет   \n",
       "4                  Жуковский                               нет   \n",
       "\n",
       "   properties.attributes.AeroexpressStation.global_id  \\\n",
       "0                                       1.508979e+09    \n",
       "1                                       1.508983e+09    \n",
       "2                                       1.508979e+09    \n",
       "3                                                NaN    \n",
       "4                                                NaN    \n",
       "\n",
       "  properties.attributes.AeroexpressStation.value  ...  \\\n",
       "0                            Аэропорт Домодедово  ...   \n",
       "1                           Аэропорт Шереметьево  ...   \n",
       "2                               Аэропорт Внуково  ...   \n",
       "3                                            NaN  ...   \n",
       "4                                            NaN  ...   \n",
       "\n",
       "       properties.attributes.AeroexpressWorkingHours  \\\n",
       "0  5:30 - 23:30 (с Павелецкого вокзала), 6:00 - 0...   \n",
       "1  5:15 - 00:31 (с Белорусского вокзала), 04:43 -...   \n",
       "2  6:00 - 23:00 (с Киевского вокзала), 6:00 - 23:...   \n",
       "3                                                      \n",
       "4                                                      \n",
       "\n",
       "  properties.attributes.MCDStation properties.attributes.RailwayStation  \\\n",
       "0                               []                                   []   \n",
       "1                               []                                   []   \n",
       "2                               []                                   []   \n",
       "3                               []                                   []   \n",
       "4                               []                                   []   \n",
       "\n",
       "  properties.attributes.Latitude_WGS84 properties.attributes.Longitude_WGS84  \\\n",
       "0                            55.414307                             37.900526   \n",
       "1                            55.966771                             37.415713   \n",
       "2                            55.605059                             37.286287   \n",
       "3                            55.502859                             37.510824   \n",
       "4                            55.561550                             38.117812   \n",
       "\n",
       "  properties.attributes.global_id properties.rowId properties.versionNumber  \\\n",
       "0                      1272818040             None                        1   \n",
       "1                      1272818309             None                        1   \n",
       "2                      1272818481             None                        1   \n",
       "3                      1272818826             None                        1   \n",
       "4                      1272818941             None                        1   \n",
       "\n",
       "   properties.releaseNumber properties.attributes.AeroexpressStation  \n",
       "0                        22                                      NaN  \n",
       "1                        22                                      NaN  \n",
       "2                        22                                      NaN  \n",
       "3                        22                                       []  \n",
       "4                        22                                       []  \n",
       "\n",
       "[5 rows x 23 columns]"
      ]
     },
     "execution_count": 54,
     "metadata": {},
     "output_type": "execute_result"
    }
   ],
   "source": [
    "df"
   ]
  },
  {
   "cell_type": "code",
   "execution_count": 55,
   "metadata": {
    "id": "-PcG6cwgbWqV"
   },
   "outputs": [
    {
     "name": "stdout",
     "output_type": "stream",
     "text": [
      "<class 'pandas.core.frame.DataFrame'>\n",
      "RangeIndex: 5 entries, 0 to 4\n",
      "Data columns (total 23 columns):\n",
      " #   Column                                              Non-Null Count  Dtype  \n",
      "---  ------                                              --------------  -----  \n",
      " 0   type                                                5 non-null      object \n",
      " 1   geometry.coordinates                                5 non-null      object \n",
      " 2   geometry.type                                       5 non-null      object \n",
      " 3   properties.datasetId                                5 non-null      int64  \n",
      " 4   properties.attributes.is_deleted                    5 non-null      int64  \n",
      " 5   properties.attributes.ID                            5 non-null      int64  \n",
      " 6   properties.attributes.Name                          5 non-null      object \n",
      " 7   properties.attributes.Aeroexpress                   5 non-null      object \n",
      " 8   properties.attributes.AeroexpressStation.global_id  3 non-null      float64\n",
      " 9   properties.attributes.AeroexpressStation.value      3 non-null      object \n",
      " 10  properties.attributes.AeroexpressTerminal           5 non-null      object \n",
      " 11  properties.attributes.AeroexpressTicketWindow       5 non-null      object \n",
      " 12  properties.attributes.AeroexpressTicketAutomat      5 non-null      object \n",
      " 13  properties.attributes.AeroexpressWorkingHours       5 non-null      object \n",
      " 14  properties.attributes.MCDStation                    5 non-null      object \n",
      " 15  properties.attributes.RailwayStation                5 non-null      object \n",
      " 16  properties.attributes.Latitude_WGS84                5 non-null      object \n",
      " 17  properties.attributes.Longitude_WGS84               5 non-null      object \n",
      " 18  properties.attributes.global_id                     5 non-null      int64  \n",
      " 19  properties.rowId                                    0 non-null      object \n",
      " 20  properties.versionNumber                            5 non-null      int64  \n",
      " 21  properties.releaseNumber                            5 non-null      int64  \n",
      " 22  properties.attributes.AeroexpressStation            2 non-null      object \n",
      "dtypes: float64(1), int64(6), object(16)\n",
      "memory usage: 1.0+ KB\n"
     ]
    }
   ],
   "source": [
    "df.info()"
   ]
  },
  {
   "cell_type": "code",
   "execution_count": 56,
   "metadata": {
    "id": "NVC9yhbJbWqV"
   },
   "outputs": [],
   "source": [
    "df = df.drop(columns=df.columns[:4])\n",
    "df = df.iloc[:, :-5]"
   ]
  },
  {
   "cell_type": "code",
   "execution_count": 57,
   "metadata": {
    "id": "ghoNEbs8bWqV"
   },
   "outputs": [],
   "source": [
    "df.rename(columns=lambda x: x.replace('properties.attributes.', ''), inplace=True)"
   ]
  },
  {
   "cell_type": "code",
   "execution_count": 58,
   "metadata": {
    "id": "WQ0RvT_nbWqW"
   },
   "outputs": [
    {
     "name": "stdout",
     "output_type": "stream",
     "text": [
      "<class 'pandas.core.frame.DataFrame'>\n",
      "RangeIndex: 5 entries, 0 to 4\n",
      "Data columns (total 14 columns):\n",
      " #   Column                        Non-Null Count  Dtype  \n",
      "---  ------                        --------------  -----  \n",
      " 0   is_deleted                    5 non-null      int64  \n",
      " 1   ID                            5 non-null      int64  \n",
      " 2   Name                          5 non-null      object \n",
      " 3   Aeroexpress                   5 non-null      object \n",
      " 4   AeroexpressStation.global_id  3 non-null      float64\n",
      " 5   AeroexpressStation.value      3 non-null      object \n",
      " 6   AeroexpressTerminal           5 non-null      object \n",
      " 7   AeroexpressTicketWindow       5 non-null      object \n",
      " 8   AeroexpressTicketAutomat      5 non-null      object \n",
      " 9   AeroexpressWorkingHours       5 non-null      object \n",
      " 10  MCDStation                    5 non-null      object \n",
      " 11  RailwayStation                5 non-null      object \n",
      " 12  Latitude_WGS84                5 non-null      object \n",
      " 13  Longitude_WGS84               5 non-null      object \n",
      "dtypes: float64(1), int64(2), object(11)\n",
      "memory usage: 688.0+ bytes\n"
     ]
    }
   ],
   "source": [
    "df.info()"
   ]
  },
  {
   "cell_type": "code",
   "execution_count": 59,
   "metadata": {
    "id": "q6VMFPfmbWqW"
   },
   "outputs": [
    {
     "data": {
      "text/html": [
       "<div>\n",
       "<style scoped>\n",
       "    .dataframe tbody tr th:only-of-type {\n",
       "        vertical-align: middle;\n",
       "    }\n",
       "\n",
       "    .dataframe tbody tr th {\n",
       "        vertical-align: top;\n",
       "    }\n",
       "\n",
       "    .dataframe thead th {\n",
       "        text-align: right;\n",
       "    }\n",
       "</style>\n",
       "<table border=\"1\" class=\"dataframe\">\n",
       "  <thead>\n",
       "    <tr style=\"text-align: right;\">\n",
       "      <th></th>\n",
       "      <th>is_deleted</th>\n",
       "      <th>ID</th>\n",
       "      <th>Name</th>\n",
       "      <th>Aeroexpress</th>\n",
       "      <th>AeroexpressStation.global_id</th>\n",
       "      <th>AeroexpressStation.value</th>\n",
       "      <th>AeroexpressTerminal</th>\n",
       "      <th>AeroexpressTicketWindow</th>\n",
       "      <th>AeroexpressTicketAutomat</th>\n",
       "      <th>AeroexpressWorkingHours</th>\n",
       "      <th>MCDStation</th>\n",
       "      <th>RailwayStation</th>\n",
       "      <th>Latitude_WGS84</th>\n",
       "      <th>Longitude_WGS84</th>\n",
       "    </tr>\n",
       "  </thead>\n",
       "  <tbody>\n",
       "    <tr>\n",
       "      <th>0</th>\n",
       "      <td>0</td>\n",
       "      <td>1</td>\n",
       "      <td>Домодедово</td>\n",
       "      <td>есть</td>\n",
       "      <td>1.508979e+09</td>\n",
       "      <td>Аэропорт Домодедово</td>\n",
       "      <td>есть</td>\n",
       "      <td>есть</td>\n",
       "      <td>есть</td>\n",
       "      <td>5:30 - 23:30 (с Павелецкого вокзала), 6:00 - 0...</td>\n",
       "      <td>[]</td>\n",
       "      <td>[]</td>\n",
       "      <td>55.414307</td>\n",
       "      <td>37.900526</td>\n",
       "    </tr>\n",
       "    <tr>\n",
       "      <th>1</th>\n",
       "      <td>0</td>\n",
       "      <td>2</td>\n",
       "      <td>Шереметьево</td>\n",
       "      <td>есть</td>\n",
       "      <td>1.508983e+09</td>\n",
       "      <td>Аэропорт Шереметьево</td>\n",
       "      <td>есть</td>\n",
       "      <td>есть</td>\n",
       "      <td>есть</td>\n",
       "      <td>5:15 - 00:31 (с Белорусского вокзала), 04:43 -...</td>\n",
       "      <td>[]</td>\n",
       "      <td>[]</td>\n",
       "      <td>55.966771</td>\n",
       "      <td>37.415713</td>\n",
       "    </tr>\n",
       "    <tr>\n",
       "      <th>2</th>\n",
       "      <td>0</td>\n",
       "      <td>3</td>\n",
       "      <td>Внуково</td>\n",
       "      <td>есть</td>\n",
       "      <td>1.508979e+09</td>\n",
       "      <td>Аэропорт Внуково</td>\n",
       "      <td>есть</td>\n",
       "      <td>есть</td>\n",
       "      <td>есть</td>\n",
       "      <td>6:00 - 23:00 (с Киевского вокзала), 6:00 - 23:...</td>\n",
       "      <td>[]</td>\n",
       "      <td>[]</td>\n",
       "      <td>55.605059</td>\n",
       "      <td>37.286287</td>\n",
       "    </tr>\n",
       "  </tbody>\n",
       "</table>\n",
       "</div>"
      ],
      "text/plain": [
       "   is_deleted  ID         Name Aeroexpress  AeroexpressStation.global_id  \\\n",
       "0           0   1   Домодедово        есть                  1.508979e+09   \n",
       "1           0   2  Шереметьево        есть                  1.508983e+09   \n",
       "2           0   3      Внуково        есть                  1.508979e+09   \n",
       "\n",
       "  AeroexpressStation.value AeroexpressTerminal AeroexpressTicketWindow  \\\n",
       "0      Аэропорт Домодедово                есть                    есть   \n",
       "1     Аэропорт Шереметьево                есть                    есть   \n",
       "2         Аэропорт Внуково                есть                    есть   \n",
       "\n",
       "  AeroexpressTicketAutomat                            AeroexpressWorkingHours  \\\n",
       "0                     есть  5:30 - 23:30 (с Павелецкого вокзала), 6:00 - 0...   \n",
       "1                     есть  5:15 - 00:31 (с Белорусского вокзала), 04:43 -...   \n",
       "2                     есть  6:00 - 23:00 (с Киевского вокзала), 6:00 - 23:...   \n",
       "\n",
       "  MCDStation RailwayStation Latitude_WGS84 Longitude_WGS84  \n",
       "0         []             []      55.414307       37.900526  \n",
       "1         []             []      55.966771       37.415713  \n",
       "2         []             []      55.605059       37.286287  "
      ]
     },
     "execution_count": 59,
     "metadata": {},
     "output_type": "execute_result"
    }
   ],
   "source": [
    "df.head(3)"
   ]
  },
  {
   "cell_type": "code",
   "execution_count": 60,
   "metadata": {
    "id": "m8GREvtobWqW"
   },
   "outputs": [
    {
     "data": {
      "image/png": "[encoded data removed]",
      "text/plain": [
       "<Figure size 640x480 with 1 Axes>"
      ]
     },
     "metadata": {},
     "output_type": "display_data"
    }
   ],
   "source": [
    "# Создание сводной таблицы, группирующей данные по значению Aeroexpress и Name\n",
    "pivot_table = pd.pivot_table(df, index='Aeroexpress', columns='Name', values='ID', aggfunc='count')\n",
    "\n",
    "# Визуализация данных с помощью графика\n",
    "pivot_table.plot(kind='bar')\n",
    "plt.xlabel('Наличие аэроэкспресса')\n",
    "plt.ylabel('Количество достопримечательностей')\n",
    "plt.title('Наличие аэроэкспресса')\n",
    "plt.show()"
   ]
  },
  {
   "cell_type": "code",
   "execution_count": 61,
   "metadata": {},
   "outputs": [],
   "source": [
    "import folium\n",
    "\n",
    "# Создание карты\n",
    "map = folium.Map(location=[55.7558, 37.6176], zoom_start=9)  # Определение центра карты и уровня масштабирования\n",
    "\n",
    "# Добавление маркеров на карту\n",
    "for index, row in df.iterrows():\n",
    "    folium.Marker(location=[row['Latitude_WGS84'], row['Longitude_WGS84']], popup=row['Name']).add_to(map)\n",
    "\n",
    "# Сохранение карты в HTML файл\n",
    "map.save(\"map.html\")"
   ]
  },
  {
   "cell_type": "code",
   "execution_count": 62,
   "metadata": {},
   "outputs": [
    {
     "data": {
      "text/html": [
       "<div style=\"width:100%;\"><div style=\"position:relative;width:100%;height:0;padding-bottom:60%;\"><span style=\"color:#565656\">Make this Notebook Trusted to load map: File -> Trust Notebook</span><iframe srcdoc=\"&lt;!DOCTYPE html&gt;\n",
       "&lt;html&gt;\n",
       "&lt;head&gt;\n",
       "    \n",
       "    &lt;meta http-equiv=&quot;content-type&quot; content=&quot;text/html; charset=UTF-8&quot; /&gt;\n",
       "    \n",
       "        &lt;script&gt;\n",
       "            L_NO_TOUCH = false;\n",
       "            L_DISABLE_3D = false;\n",
       "        &lt;/script&gt;\n",
       "    \n",
       "    &lt;style&gt;html, body {width: 100%;height: 100%;margin: 0;padding: 0;}&lt;/style&gt;\n",
       "    &lt;style&gt;#map {position:absolute;top:0;bottom:0;right:0;left:0;}&lt;/style&gt;\n",
       "    &lt;script src=&quot;https://cdn.jsdelivr.net/npm/leaflet@1.9.3/dist/leaflet.js&quot;&gt;&lt;/script&gt;\n",
       "    &lt;script src=&quot;https://code.jquery.com/jquery-3.7.1.min.js&quot;&gt;&lt;/script&gt;\n",
       "    &lt;script src=&quot;https://cdn.jsdelivr.net/npm/bootstrap@5.2.2/dist/js/bootstrap.bundle.min.js&quot;&gt;&lt;/script&gt;\n",
       "    &lt;script src=&quot;https://cdnjs.cloudflare.com/ajax/libs/Leaflet.awesome-markers/2.0.2/leaflet.awesome-markers.js&quot;&gt;&lt;/script&gt;\n",
       "    &lt;link rel=&quot;stylesheet&quot; href=&quot;https://cdn.jsdelivr.net/npm/leaflet@1.9.3/dist/leaflet.css&quot;/&gt;\n",
       "    &lt;link rel=&quot;stylesheet&quot; href=&quot;https://cdn.jsdelivr.net/npm/bootstrap@5.2.2/dist/css/bootstrap.min.css&quot;/&gt;\n",
       "    &lt;link rel=&quot;stylesheet&quot; href=&quot;https://netdna.bootstrapcdn.com/bootstrap/3.0.0/css/bootstrap.min.css&quot;/&gt;\n",
       "    &lt;link rel=&quot;stylesheet&quot; href=&quot;https://cdn.jsdelivr.net/npm/@fortawesome/fontawesome-free@6.2.0/css/all.min.css&quot;/&gt;\n",
       "    &lt;link rel=&quot;stylesheet&quot; href=&quot;https://cdnjs.cloudflare.com/ajax/libs/Leaflet.awesome-markers/2.0.2/leaflet.awesome-markers.css&quot;/&gt;\n",
       "    &lt;link rel=&quot;stylesheet&quot; href=&quot;https://cdn.jsdelivr.net/gh/python-visualization/folium/folium/templates/leaflet.awesome.rotate.min.css&quot;/&gt;\n",
       "    \n",
       "            &lt;meta name=&quot;viewport&quot; content=&quot;width=device-width,\n",
       "                initial-scale=1.0, maximum-scale=1.0, user-scalable=no&quot; /&gt;\n",
       "            &lt;style&gt;\n",
       "                #map_d5c8c7fadda4f2051851f89bec6e9457 {\n",
       "                    position: relative;\n",
       "                    width: 100.0%;\n",
       "                    height: 100.0%;\n",
       "                    left: 0.0%;\n",
       "                    top: 0.0%;\n",
       "                }\n",
       "                .leaflet-container { font-size: 1rem; }\n",
       "            &lt;/style&gt;\n",
       "        \n",
       "&lt;/head&gt;\n",
       "&lt;body&gt;\n",
       "    \n",
       "    \n",
       "            &lt;div class=&quot;folium-map&quot; id=&quot;map_d5c8c7fadda4f2051851f89bec6e9457&quot; &gt;&lt;/div&gt;\n",
       "        \n",
       "&lt;/body&gt;\n",
       "&lt;script&gt;\n",
       "    \n",
       "    \n",
       "            var map_d5c8c7fadda4f2051851f89bec6e9457 = L.map(\n",
       "                &quot;map_d5c8c7fadda4f2051851f89bec6e9457&quot;,\n",
       "                {\n",
       "                    center: [55.7558, 37.6176],\n",
       "                    crs: L.CRS.EPSG3857,\n",
       "                    zoom: 9,\n",
       "                    zoomControl: true,\n",
       "                    preferCanvas: false,\n",
       "                }\n",
       "            );\n",
       "\n",
       "            \n",
       "\n",
       "        \n",
       "    \n",
       "            var tile_layer_b55d4809e97835c96ef2d87701a2cdda = L.tileLayer(\n",
       "                &quot;https://tile.openstreetmap.org/{z}/{x}/{y}.png&quot;,\n",
       "                {&quot;attribution&quot;: &quot;\\u0026copy; \\u003ca href=\\&quot;https://www.openstreetmap.org/copyright\\&quot;\\u003eOpenStreetMap\\u003c/a\\u003e contributors&quot;, &quot;detectRetina&quot;: false, &quot;maxNativeZoom&quot;: 19, &quot;maxZoom&quot;: 19, &quot;minZoom&quot;: 0, &quot;noWrap&quot;: false, &quot;opacity&quot;: 1, &quot;subdomains&quot;: &quot;abc&quot;, &quot;tms&quot;: false}\n",
       "            );\n",
       "        \n",
       "    \n",
       "            tile_layer_b55d4809e97835c96ef2d87701a2cdda.addTo(map_d5c8c7fadda4f2051851f89bec6e9457);\n",
       "        \n",
       "    \n",
       "            var marker_12ddf871069060756b16bb0df56559a1 = L.marker(\n",
       "                [55.414307, 37.900526],\n",
       "                {}\n",
       "            ).addTo(map_d5c8c7fadda4f2051851f89bec6e9457);\n",
       "        \n",
       "    \n",
       "        var popup_779e6c89da36487372de916e9243404e = L.popup({&quot;maxWidth&quot;: &quot;100%&quot;});\n",
       "\n",
       "        \n",
       "            \n",
       "                var html_883d10a09e24bfbdfc6ba4221716198f = $(`&lt;div id=&quot;html_883d10a09e24bfbdfc6ba4221716198f&quot; style=&quot;width: 100.0%; height: 100.0%;&quot;&gt;Домодедово&lt;/div&gt;`)[0];\n",
       "                popup_779e6c89da36487372de916e9243404e.setContent(html_883d10a09e24bfbdfc6ba4221716198f);\n",
       "            \n",
       "        \n",
       "\n",
       "        marker_12ddf871069060756b16bb0df56559a1.bindPopup(popup_779e6c89da36487372de916e9243404e)\n",
       "        ;\n",
       "\n",
       "        \n",
       "    \n",
       "    \n",
       "            var marker_ef48af83cebcfec21cdeaac1dd22c28f = L.marker(\n",
       "                [55.966771, 37.415713],\n",
       "                {}\n",
       "            ).addTo(map_d5c8c7fadda4f2051851f89bec6e9457);\n",
       "        \n",
       "    \n",
       "        var popup_3c16c5da9fe25960955f1a3de30db0a8 = L.popup({&quot;maxWidth&quot;: &quot;100%&quot;});\n",
       "\n",
       "        \n",
       "            \n",
       "                var html_751163c974c847bbb544fbfda19f4d79 = $(`&lt;div id=&quot;html_751163c974c847bbb544fbfda19f4d79&quot; style=&quot;width: 100.0%; height: 100.0%;&quot;&gt;Шереметьево&lt;/div&gt;`)[0];\n",
       "                popup_3c16c5da9fe25960955f1a3de30db0a8.setContent(html_751163c974c847bbb544fbfda19f4d79);\n",
       "            \n",
       "        \n",
       "\n",
       "        marker_ef48af83cebcfec21cdeaac1dd22c28f.bindPopup(popup_3c16c5da9fe25960955f1a3de30db0a8)\n",
       "        ;\n",
       "\n",
       "        \n",
       "    \n",
       "    \n",
       "            var marker_ed1795c90d1d6759372432fd2ca0da9f = L.marker(\n",
       "                [55.605059, 37.286287],\n",
       "                {}\n",
       "            ).addTo(map_d5c8c7fadda4f2051851f89bec6e9457);\n",
       "        \n",
       "    \n",
       "        var popup_d0024e0ae77ad0ae6930dbc3693a2623 = L.popup({&quot;maxWidth&quot;: &quot;100%&quot;});\n",
       "\n",
       "        \n",
       "            \n",
       "                var html_39b7a909a13f9d7e0f9c4ef90eb65322 = $(`&lt;div id=&quot;html_39b7a909a13f9d7e0f9c4ef90eb65322&quot; style=&quot;width: 100.0%; height: 100.0%;&quot;&gt;Внуково&lt;/div&gt;`)[0];\n",
       "                popup_d0024e0ae77ad0ae6930dbc3693a2623.setContent(html_39b7a909a13f9d7e0f9c4ef90eb65322);\n",
       "            \n",
       "        \n",
       "\n",
       "        marker_ed1795c90d1d6759372432fd2ca0da9f.bindPopup(popup_d0024e0ae77ad0ae6930dbc3693a2623)\n",
       "        ;\n",
       "\n",
       "        \n",
       "    \n",
       "    \n",
       "            var marker_1e014ee7f00367e40434ea893fc826b7 = L.marker(\n",
       "                [55.502859, 37.510824],\n",
       "                {}\n",
       "            ).addTo(map_d5c8c7fadda4f2051851f89bec6e9457);\n",
       "        \n",
       "    \n",
       "        var popup_82124a9ae1063d23ade8dc4dd46cbf17 = L.popup({&quot;maxWidth&quot;: &quot;100%&quot;});\n",
       "\n",
       "        \n",
       "            \n",
       "                var html_3a76d4e0287f1f8c8548373fa45196b0 = $(`&lt;div id=&quot;html_3a76d4e0287f1f8c8548373fa45196b0&quot; style=&quot;width: 100.0%; height: 100.0%;&quot;&gt;Остафьево&lt;/div&gt;`)[0];\n",
       "                popup_82124a9ae1063d23ade8dc4dd46cbf17.setContent(html_3a76d4e0287f1f8c8548373fa45196b0);\n",
       "            \n",
       "        \n",
       "\n",
       "        marker_1e014ee7f00367e40434ea893fc826b7.bindPopup(popup_82124a9ae1063d23ade8dc4dd46cbf17)\n",
       "        ;\n",
       "\n",
       "        \n",
       "    \n",
       "    \n",
       "            var marker_c4a7021175e17b4c37a7301d5298092f = L.marker(\n",
       "                [55.56155, 38.117812],\n",
       "                {}\n",
       "            ).addTo(map_d5c8c7fadda4f2051851f89bec6e9457);\n",
       "        \n",
       "    \n",
       "        var popup_7721b63ed9a5713c0e8fb69584d042a4 = L.popup({&quot;maxWidth&quot;: &quot;100%&quot;});\n",
       "\n",
       "        \n",
       "            \n",
       "                var html_461c956be792539b09c391d19df77bad = $(`&lt;div id=&quot;html_461c956be792539b09c391d19df77bad&quot; style=&quot;width: 100.0%; height: 100.0%;&quot;&gt;Жуковский&lt;/div&gt;`)[0];\n",
       "                popup_7721b63ed9a5713c0e8fb69584d042a4.setContent(html_461c956be792539b09c391d19df77bad);\n",
       "            \n",
       "        \n",
       "\n",
       "        marker_c4a7021175e17b4c37a7301d5298092f.bindPopup(popup_7721b63ed9a5713c0e8fb69584d042a4)\n",
       "        ;\n",
       "\n",
       "        \n",
       "    \n",
       "    \n",
       "            tile_layer_b55d4809e97835c96ef2d87701a2cdda.addTo(map_d5c8c7fadda4f2051851f89bec6e9457);\n",
       "        \n",
       "&lt;/script&gt;\n",
       "&lt;/html&gt;\" style=\"position:absolute;width:100%;height:100%;left:0;top:0;border:none !important;\" allowfullscreen webkitallowfullscreen mozallowfullscreen></iframe></div></div>"
      ],
      "text/plain": [
       "<folium.folium.Map at 0x167e8972050>"
      ]
     },
     "metadata": {},
     "output_type": "display_data"
    }
   ],
   "source": [
    "# Отображение карты\n",
    "display(map)"
   ]
  }
 ],
 "metadata": {
  "colab": {
   "provenance": []
  },
  "kernelspec": {
   "display_name": "Python 3 (ipykernel)",
   "language": "python",
   "name": "python3"
  },
  "language_info": {
   "codemirror_mode": {
    "name": "ipython",
    "version": 3
   },
   "file_extension": ".py",
   "mimetype": "text/x-python",
   "name": "python",
   "nbconvert_exporter": "python",
   "pygments_lexer": "ipython3",
   "version": "3.10.9"
  }
 },
 "nbformat": 4,
 "nbformat_minor": 1
}
